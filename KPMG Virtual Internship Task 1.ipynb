{
 "cells": [
  {
   "cell_type": "markdown",
   "id": "732a86ec",
   "metadata": {},
   "source": [
    "# Name : Nidhi Surti"
   ]
  },
  {
   "cell_type": "markdown",
   "id": "a3e83c12",
   "metadata": {},
   "source": [
    "# KPMG Virtual Internship Project"
   ]
  },
  {
   "cell_type": "markdown",
   "id": "c11ab260",
   "metadata": {},
   "source": [
    "Task 1 : Data Quality Assessment"
   ]
  },
  {
   "cell_type": "markdown",
   "id": "739642db",
   "metadata": {},
   "source": [
    "The client provided KPMG with 3 datasets "
   ]
  },
  {
   "cell_type": "markdown",
   "id": "b7e95c4a",
   "metadata": {},
   "source": [
    "1. Customer Demographic "
   ]
  },
  {
   "cell_type": "markdown",
   "id": "b8cb4aa3",
   "metadata": {},
   "source": [
    "2. Customer Addresses"
   ]
  },
  {
   "cell_type": "markdown",
   "id": "374079d7",
   "metadata": {},
   "source": [
    "3. Transaction Data in past 3 months"
   ]
  },
  {
   "cell_type": "code",
   "execution_count": 1,
   "id": "f61e1d9d",
   "metadata": {},
   "outputs": [],
   "source": [
    "#Import the necessary libraries\n",
    "import pandas as pd "
   ]
  },
  {
   "cell_type": "code",
   "execution_count": 2,
   "id": "222b5708",
   "metadata": {},
   "outputs": [],
   "source": [
    "#Reading the data \n",
    "df = pd.ExcelFile(\"C:/Users/Dell/Downloads/KPMG_VI_New_raw_data_update_final.xlsx\")"
   ]
  },
  {
   "cell_type": "code",
   "execution_count": 3,
   "id": "6e293588",
   "metadata": {},
   "outputs": [],
   "source": [
    "#Reading each file separately \n",
    "Transactions = pd.read_excel(df, \"Transactions\")\n",
    "NewCustomerList = pd.read_excel(df, \"NewCustomerList\")\n",
    "CustomerDemographic = pd.read_excel(df, \"CustomerDemographic\")\n",
    "CustomerAddress = pd.read_excel(df, \"CustomerAddress\")"
   ]
  },
  {
   "cell_type": "code",
   "execution_count": 4,
   "id": "65efebdf",
   "metadata": {},
   "outputs": [
    {
     "data": {
      "text/html": [
       "<div>\n",
       "<style scoped>\n",
       "    .dataframe tbody tr th:only-of-type {\n",
       "        vertical-align: middle;\n",
       "    }\n",
       "\n",
       "    .dataframe tbody tr th {\n",
       "        vertical-align: top;\n",
       "    }\n",
       "\n",
       "    .dataframe thead th {\n",
       "        text-align: right;\n",
       "    }\n",
       "</style>\n",
       "<table border=\"1\" class=\"dataframe\">\n",
       "  <thead>\n",
       "    <tr style=\"text-align: right;\">\n",
       "      <th></th>\n",
       "      <th>Note: The data and information in this document is reflective of a hypothetical situation and client. This document is to be used for KPMG Virtual Internship purposes only.</th>\n",
       "      <th>Unnamed: 1</th>\n",
       "      <th>Unnamed: 2</th>\n",
       "      <th>Unnamed: 3</th>\n",
       "      <th>Unnamed: 4</th>\n",
       "      <th>Unnamed: 5</th>\n",
       "      <th>Unnamed: 6</th>\n",
       "      <th>Unnamed: 7</th>\n",
       "      <th>Unnamed: 8</th>\n",
       "      <th>Unnamed: 9</th>\n",
       "      <th>...</th>\n",
       "      <th>Unnamed: 16</th>\n",
       "      <th>Unnamed: 17</th>\n",
       "      <th>Unnamed: 18</th>\n",
       "      <th>Unnamed: 19</th>\n",
       "      <th>Unnamed: 20</th>\n",
       "      <th>Unnamed: 21</th>\n",
       "      <th>Unnamed: 22</th>\n",
       "      <th>Unnamed: 23</th>\n",
       "      <th>Unnamed: 24</th>\n",
       "      <th>Unnamed: 25</th>\n",
       "    </tr>\n",
       "  </thead>\n",
       "  <tbody>\n",
       "    <tr>\n",
       "      <th>0</th>\n",
       "      <td>transaction_id</td>\n",
       "      <td>product_id</td>\n",
       "      <td>customer_id</td>\n",
       "      <td>transaction_date</td>\n",
       "      <td>online_order</td>\n",
       "      <td>order_status</td>\n",
       "      <td>brand</td>\n",
       "      <td>product_line</td>\n",
       "      <td>product_class</td>\n",
       "      <td>product_size</td>\n",
       "      <td>...</td>\n",
       "      <td>NaN</td>\n",
       "      <td>NaN</td>\n",
       "      <td>NaN</td>\n",
       "      <td>NaN</td>\n",
       "      <td>NaN</td>\n",
       "      <td>NaN</td>\n",
       "      <td>NaN</td>\n",
       "      <td>NaN</td>\n",
       "      <td>NaN</td>\n",
       "      <td>NaN</td>\n",
       "    </tr>\n",
       "    <tr>\n",
       "      <th>1</th>\n",
       "      <td>1</td>\n",
       "      <td>2</td>\n",
       "      <td>2950</td>\n",
       "      <td>2017-02-25 00:00:00</td>\n",
       "      <td>False</td>\n",
       "      <td>Approved</td>\n",
       "      <td>Solex</td>\n",
       "      <td>Standard</td>\n",
       "      <td>medium</td>\n",
       "      <td>medium</td>\n",
       "      <td>...</td>\n",
       "      <td>NaN</td>\n",
       "      <td>NaN</td>\n",
       "      <td>NaN</td>\n",
       "      <td>NaN</td>\n",
       "      <td>NaN</td>\n",
       "      <td>NaN</td>\n",
       "      <td>NaN</td>\n",
       "      <td>NaN</td>\n",
       "      <td>NaN</td>\n",
       "      <td>NaN</td>\n",
       "    </tr>\n",
       "    <tr>\n",
       "      <th>2</th>\n",
       "      <td>2</td>\n",
       "      <td>3</td>\n",
       "      <td>3120</td>\n",
       "      <td>2017-05-21 00:00:00</td>\n",
       "      <td>True</td>\n",
       "      <td>Approved</td>\n",
       "      <td>Trek Bicycles</td>\n",
       "      <td>Standard</td>\n",
       "      <td>medium</td>\n",
       "      <td>large</td>\n",
       "      <td>...</td>\n",
       "      <td>NaN</td>\n",
       "      <td>NaN</td>\n",
       "      <td>NaN</td>\n",
       "      <td>NaN</td>\n",
       "      <td>NaN</td>\n",
       "      <td>NaN</td>\n",
       "      <td>NaN</td>\n",
       "      <td>NaN</td>\n",
       "      <td>NaN</td>\n",
       "      <td>NaN</td>\n",
       "    </tr>\n",
       "    <tr>\n",
       "      <th>3</th>\n",
       "      <td>3</td>\n",
       "      <td>37</td>\n",
       "      <td>402</td>\n",
       "      <td>2017-10-16 00:00:00</td>\n",
       "      <td>False</td>\n",
       "      <td>Approved</td>\n",
       "      <td>OHM Cycles</td>\n",
       "      <td>Standard</td>\n",
       "      <td>low</td>\n",
       "      <td>medium</td>\n",
       "      <td>...</td>\n",
       "      <td>NaN</td>\n",
       "      <td>NaN</td>\n",
       "      <td>NaN</td>\n",
       "      <td>NaN</td>\n",
       "      <td>NaN</td>\n",
       "      <td>NaN</td>\n",
       "      <td>NaN</td>\n",
       "      <td>NaN</td>\n",
       "      <td>NaN</td>\n",
       "      <td>NaN</td>\n",
       "    </tr>\n",
       "    <tr>\n",
       "      <th>4</th>\n",
       "      <td>4</td>\n",
       "      <td>88</td>\n",
       "      <td>3135</td>\n",
       "      <td>2017-08-31 00:00:00</td>\n",
       "      <td>False</td>\n",
       "      <td>Approved</td>\n",
       "      <td>Norco Bicycles</td>\n",
       "      <td>Standard</td>\n",
       "      <td>medium</td>\n",
       "      <td>medium</td>\n",
       "      <td>...</td>\n",
       "      <td>NaN</td>\n",
       "      <td>NaN</td>\n",
       "      <td>NaN</td>\n",
       "      <td>NaN</td>\n",
       "      <td>NaN</td>\n",
       "      <td>NaN</td>\n",
       "      <td>NaN</td>\n",
       "      <td>NaN</td>\n",
       "      <td>NaN</td>\n",
       "      <td>NaN</td>\n",
       "    </tr>\n",
       "  </tbody>\n",
       "</table>\n",
       "<p>5 rows × 26 columns</p>\n",
       "</div>"
      ],
      "text/plain": [
       "  Note: The data and information in this document is reflective of a hypothetical situation and client. This document is to be used for KPMG Virtual Internship purposes only.   \\\n",
       "0                                     transaction_id                                                                                                                              \n",
       "1                                                  1                                                                                                                              \n",
       "2                                                  2                                                                                                                              \n",
       "3                                                  3                                                                                                                              \n",
       "4                                                  4                                                                                                                              \n",
       "\n",
       "   Unnamed: 1   Unnamed: 2           Unnamed: 3    Unnamed: 4    Unnamed: 5  \\\n",
       "0  product_id  customer_id     transaction_date  online_order  order_status   \n",
       "1           2         2950  2017-02-25 00:00:00         False      Approved   \n",
       "2           3         3120  2017-05-21 00:00:00          True      Approved   \n",
       "3          37          402  2017-10-16 00:00:00         False      Approved   \n",
       "4          88         3135  2017-08-31 00:00:00         False      Approved   \n",
       "\n",
       "       Unnamed: 6    Unnamed: 7     Unnamed: 8    Unnamed: 9  ... Unnamed: 16  \\\n",
       "0           brand  product_line  product_class  product_size  ...         NaN   \n",
       "1           Solex      Standard         medium        medium  ...         NaN   \n",
       "2   Trek Bicycles      Standard         medium         large  ...         NaN   \n",
       "3      OHM Cycles      Standard            low        medium  ...         NaN   \n",
       "4  Norco Bicycles      Standard         medium        medium  ...         NaN   \n",
       "\n",
       "  Unnamed: 17 Unnamed: 18  Unnamed: 19  Unnamed: 20  Unnamed: 21  Unnamed: 22  \\\n",
       "0         NaN         NaN          NaN          NaN          NaN          NaN   \n",
       "1         NaN         NaN          NaN          NaN          NaN          NaN   \n",
       "2         NaN         NaN          NaN          NaN          NaN          NaN   \n",
       "3         NaN         NaN          NaN          NaN          NaN          NaN   \n",
       "4         NaN         NaN          NaN          NaN          NaN          NaN   \n",
       "\n",
       "   Unnamed: 23  Unnamed: 24  Unnamed: 25  \n",
       "0          NaN          NaN          NaN  \n",
       "1          NaN          NaN          NaN  \n",
       "2          NaN          NaN          NaN  \n",
       "3          NaN          NaN          NaN  \n",
       "4          NaN          NaN          NaN  \n",
       "\n",
       "[5 rows x 26 columns]"
      ]
     },
     "execution_count": 4,
     "metadata": {},
     "output_type": "execute_result"
    }
   ],
   "source": [
    "#Exploring Transactions dataset\n",
    "Transactions.head(5)"
   ]
  },
  {
   "cell_type": "code",
   "execution_count": 5,
   "id": "2181d9fd",
   "metadata": {},
   "outputs": [
    {
     "name": "stdout",
     "output_type": "stream",
     "text": [
      "<class 'pandas.core.frame.DataFrame'>\n",
      "RangeIndex: 20001 entries, 0 to 20000\n",
      "Data columns (total 26 columns):\n",
      " #   Column                                                                                                                                                                         Non-Null Count  Dtype  \n",
      "---  ------                                                                                                                                                                         --------------  -----  \n",
      " 0   Note: The data and information in this document is reflective of a hypothetical situation and client. This document is to be used for KPMG Virtual Internship purposes only.   20001 non-null  object \n",
      " 1   Unnamed: 1                                                                                                                                                                     20001 non-null  object \n",
      " 2   Unnamed: 2                                                                                                                                                                     20001 non-null  object \n",
      " 3   Unnamed: 3                                                                                                                                                                     20001 non-null  object \n",
      " 4   Unnamed: 4                                                                                                                                                                     19641 non-null  object \n",
      " 5   Unnamed: 5                                                                                                                                                                     20001 non-null  object \n",
      " 6   Unnamed: 6                                                                                                                                                                     19804 non-null  object \n",
      " 7   Unnamed: 7                                                                                                                                                                     19804 non-null  object \n",
      " 8   Unnamed: 8                                                                                                                                                                     19804 non-null  object \n",
      " 9   Unnamed: 9                                                                                                                                                                     19804 non-null  object \n",
      " 10  Unnamed: 10                                                                                                                                                                    20001 non-null  object \n",
      " 11  Unnamed: 11                                                                                                                                                                    19804 non-null  object \n",
      " 12  Unnamed: 12                                                                                                                                                                    19804 non-null  object \n",
      " 13  Unnamed: 13                                                                                                                                                                    0 non-null      float64\n",
      " 14  Unnamed: 14                                                                                                                                                                    0 non-null      float64\n",
      " 15  Unnamed: 15                                                                                                                                                                    0 non-null      float64\n",
      " 16  Unnamed: 16                                                                                                                                                                    0 non-null      float64\n",
      " 17  Unnamed: 17                                                                                                                                                                    0 non-null      float64\n",
      " 18  Unnamed: 18                                                                                                                                                                    0 non-null      float64\n",
      " 19  Unnamed: 19                                                                                                                                                                    0 non-null      float64\n",
      " 20  Unnamed: 20                                                                                                                                                                    0 non-null      float64\n",
      " 21  Unnamed: 21                                                                                                                                                                    0 non-null      float64\n",
      " 22  Unnamed: 22                                                                                                                                                                    0 non-null      float64\n",
      " 23  Unnamed: 23                                                                                                                                                                    0 non-null      float64\n",
      " 24  Unnamed: 24                                                                                                                                                                    0 non-null      float64\n",
      " 25  Unnamed: 25                                                                                                                                                                    0 non-null      float64\n",
      "dtypes: float64(13), object(13)\n",
      "memory usage: 4.0+ MB\n"
     ]
    }
   ],
   "source": [
    "Transactions.info()"
   ]
  },
  {
   "cell_type": "code",
   "execution_count": 6,
   "id": "978d9530",
   "metadata": {},
   "outputs": [
    {
     "data": {
      "text/html": [
       "<div>\n",
       "<style scoped>\n",
       "    .dataframe tbody tr th:only-of-type {\n",
       "        vertical-align: middle;\n",
       "    }\n",
       "\n",
       "    .dataframe tbody tr th {\n",
       "        vertical-align: top;\n",
       "    }\n",
       "\n",
       "    .dataframe thead th {\n",
       "        text-align: right;\n",
       "    }\n",
       "</style>\n",
       "<table border=\"1\" class=\"dataframe\">\n",
       "  <thead>\n",
       "    <tr style=\"text-align: right;\">\n",
       "      <th></th>\n",
       "      <th>Note: The data and information in this document is reflective of a hypothetical situation and client. This document is to be used for KPMG Virtual Internship purposes only.</th>\n",
       "      <th>Unnamed: 1</th>\n",
       "      <th>Unnamed: 2</th>\n",
       "      <th>Unnamed: 3</th>\n",
       "      <th>Unnamed: 4</th>\n",
       "      <th>Unnamed: 5</th>\n",
       "      <th>Unnamed: 6</th>\n",
       "      <th>Unnamed: 7</th>\n",
       "      <th>Unnamed: 8</th>\n",
       "      <th>Unnamed: 9</th>\n",
       "      <th>Unnamed: 10</th>\n",
       "      <th>Unnamed: 11</th>\n",
       "      <th>Unnamed: 12</th>\n",
       "    </tr>\n",
       "  </thead>\n",
       "  <tbody>\n",
       "    <tr>\n",
       "      <th>0</th>\n",
       "      <td>transaction_id</td>\n",
       "      <td>product_id</td>\n",
       "      <td>customer_id</td>\n",
       "      <td>transaction_date</td>\n",
       "      <td>online_order</td>\n",
       "      <td>order_status</td>\n",
       "      <td>brand</td>\n",
       "      <td>product_line</td>\n",
       "      <td>product_class</td>\n",
       "      <td>product_size</td>\n",
       "      <td>list_price</td>\n",
       "      <td>standard_cost</td>\n",
       "      <td>product_first_sold_date</td>\n",
       "    </tr>\n",
       "    <tr>\n",
       "      <th>1</th>\n",
       "      <td>1</td>\n",
       "      <td>2</td>\n",
       "      <td>2950</td>\n",
       "      <td>2017-02-25 00:00:00</td>\n",
       "      <td>False</td>\n",
       "      <td>Approved</td>\n",
       "      <td>Solex</td>\n",
       "      <td>Standard</td>\n",
       "      <td>medium</td>\n",
       "      <td>medium</td>\n",
       "      <td>71.49</td>\n",
       "      <td>53.62</td>\n",
       "      <td>41245</td>\n",
       "    </tr>\n",
       "    <tr>\n",
       "      <th>2</th>\n",
       "      <td>2</td>\n",
       "      <td>3</td>\n",
       "      <td>3120</td>\n",
       "      <td>2017-05-21 00:00:00</td>\n",
       "      <td>True</td>\n",
       "      <td>Approved</td>\n",
       "      <td>Trek Bicycles</td>\n",
       "      <td>Standard</td>\n",
       "      <td>medium</td>\n",
       "      <td>large</td>\n",
       "      <td>2091.47</td>\n",
       "      <td>388.92</td>\n",
       "      <td>41701</td>\n",
       "    </tr>\n",
       "    <tr>\n",
       "      <th>3</th>\n",
       "      <td>3</td>\n",
       "      <td>37</td>\n",
       "      <td>402</td>\n",
       "      <td>2017-10-16 00:00:00</td>\n",
       "      <td>False</td>\n",
       "      <td>Approved</td>\n",
       "      <td>OHM Cycles</td>\n",
       "      <td>Standard</td>\n",
       "      <td>low</td>\n",
       "      <td>medium</td>\n",
       "      <td>1793.43</td>\n",
       "      <td>248.82</td>\n",
       "      <td>36361</td>\n",
       "    </tr>\n",
       "    <tr>\n",
       "      <th>4</th>\n",
       "      <td>4</td>\n",
       "      <td>88</td>\n",
       "      <td>3135</td>\n",
       "      <td>2017-08-31 00:00:00</td>\n",
       "      <td>False</td>\n",
       "      <td>Approved</td>\n",
       "      <td>Norco Bicycles</td>\n",
       "      <td>Standard</td>\n",
       "      <td>medium</td>\n",
       "      <td>medium</td>\n",
       "      <td>1198.46</td>\n",
       "      <td>381.1</td>\n",
       "      <td>36145</td>\n",
       "    </tr>\n",
       "  </tbody>\n",
       "</table>\n",
       "</div>"
      ],
      "text/plain": [
       "  Note: The data and information in this document is reflective of a hypothetical situation and client. This document is to be used for KPMG Virtual Internship purposes only.   \\\n",
       "0                                     transaction_id                                                                                                                              \n",
       "1                                                  1                                                                                                                              \n",
       "2                                                  2                                                                                                                              \n",
       "3                                                  3                                                                                                                              \n",
       "4                                                  4                                                                                                                              \n",
       "\n",
       "   Unnamed: 1   Unnamed: 2           Unnamed: 3    Unnamed: 4    Unnamed: 5  \\\n",
       "0  product_id  customer_id     transaction_date  online_order  order_status   \n",
       "1           2         2950  2017-02-25 00:00:00         False      Approved   \n",
       "2           3         3120  2017-05-21 00:00:00          True      Approved   \n",
       "3          37          402  2017-10-16 00:00:00         False      Approved   \n",
       "4          88         3135  2017-08-31 00:00:00         False      Approved   \n",
       "\n",
       "       Unnamed: 6    Unnamed: 7     Unnamed: 8    Unnamed: 9 Unnamed: 10  \\\n",
       "0           brand  product_line  product_class  product_size  list_price   \n",
       "1           Solex      Standard         medium        medium       71.49   \n",
       "2   Trek Bicycles      Standard         medium         large     2091.47   \n",
       "3      OHM Cycles      Standard            low        medium     1793.43   \n",
       "4  Norco Bicycles      Standard         medium        medium     1198.46   \n",
       "\n",
       "     Unnamed: 11              Unnamed: 12  \n",
       "0  standard_cost  product_first_sold_date  \n",
       "1          53.62                    41245  \n",
       "2         388.92                    41701  \n",
       "3         248.82                    36361  \n",
       "4          381.1                    36145  "
      ]
     },
     "execution_count": 6,
     "metadata": {},
     "output_type": "execute_result"
    }
   ],
   "source": [
    "#Using only the required columns\n",
    "Transactions = Transactions.iloc[:,0:13]\n",
    "Transactions.head()"
   ]
  },
  {
   "cell_type": "code",
   "execution_count": 7,
   "id": "1f8d45a6",
   "metadata": {},
   "outputs": [
    {
     "name": "stdout",
     "output_type": "stream",
     "text": [
      "<class 'pandas.core.frame.DataFrame'>\n",
      "RangeIndex: 20001 entries, 0 to 20000\n",
      "Data columns (total 13 columns):\n",
      " #   Column                                                                                                                                                                         Non-Null Count  Dtype \n",
      "---  ------                                                                                                                                                                         --------------  ----- \n",
      " 0   Note: The data and information in this document is reflective of a hypothetical situation and client. This document is to be used for KPMG Virtual Internship purposes only.   20001 non-null  object\n",
      " 1   Unnamed: 1                                                                                                                                                                     20001 non-null  object\n",
      " 2   Unnamed: 2                                                                                                                                                                     20001 non-null  object\n",
      " 3   Unnamed: 3                                                                                                                                                                     20001 non-null  object\n",
      " 4   Unnamed: 4                                                                                                                                                                     19641 non-null  object\n",
      " 5   Unnamed: 5                                                                                                                                                                     20001 non-null  object\n",
      " 6   Unnamed: 6                                                                                                                                                                     19804 non-null  object\n",
      " 7   Unnamed: 7                                                                                                                                                                     19804 non-null  object\n",
      " 8   Unnamed: 8                                                                                                                                                                     19804 non-null  object\n",
      " 9   Unnamed: 9                                                                                                                                                                     19804 non-null  object\n",
      " 10  Unnamed: 10                                                                                                                                                                    20001 non-null  object\n",
      " 11  Unnamed: 11                                                                                                                                                                    19804 non-null  object\n",
      " 12  Unnamed: 12                                                                                                                                                                    19804 non-null  object\n",
      "dtypes: object(13)\n",
      "memory usage: 2.0+ MB\n"
     ]
    }
   ],
   "source": [
    "Transactions.info()"
   ]
  },
  {
   "cell_type": "code",
   "execution_count": 8,
   "id": "103e064a",
   "metadata": {},
   "outputs": [
    {
     "data": {
      "text/plain": [
       "(20001, 13)"
      ]
     },
     "execution_count": 8,
     "metadata": {},
     "output_type": "execute_result"
    }
   ],
   "source": [
    "#Checking the shape of the data \n",
    "Transactions.shape"
   ]
  },
  {
   "cell_type": "code",
   "execution_count": 9,
   "id": "a3e1cb7d",
   "metadata": {},
   "outputs": [
    {
     "data": {
      "text/plain": [
       "Note: The data and information in this document is reflective of a hypothetical situation and client. This document is to be used for KPMG Virtual Internship purposes only.       0\n",
       "Unnamed: 1                                                                                                                                                                         0\n",
       "Unnamed: 2                                                                                                                                                                         0\n",
       "Unnamed: 3                                                                                                                                                                         0\n",
       "Unnamed: 4                                                                                                                                                                       360\n",
       "Unnamed: 5                                                                                                                                                                         0\n",
       "Unnamed: 6                                                                                                                                                                       197\n",
       "Unnamed: 7                                                                                                                                                                       197\n",
       "Unnamed: 8                                                                                                                                                                       197\n",
       "Unnamed: 9                                                                                                                                                                       197\n",
       "Unnamed: 10                                                                                                                                                                        0\n",
       "Unnamed: 11                                                                                                                                                                      197\n",
       "Unnamed: 12                                                                                                                                                                      197\n",
       "dtype: int64"
      ]
     },
     "execution_count": 9,
     "metadata": {},
     "output_type": "execute_result"
    }
   ],
   "source": [
    "#Check for the null values \n",
    "Transactions.isnull().sum()"
   ]
  },
  {
   "cell_type": "markdown",
   "id": "12de375c",
   "metadata": {},
   "source": [
    "There are missing values in 6 columns . They can be dropped or treated as the nature of analysis"
   ]
  },
  {
   "cell_type": "code",
   "execution_count": 10,
   "id": "89c6fb17",
   "metadata": {},
   "outputs": [
    {
     "data": {
      "text/plain": [
       "0"
      ]
     },
     "execution_count": 10,
     "metadata": {},
     "output_type": "execute_result"
    }
   ],
   "source": [
    "#Checking for duplicate values\n",
    "Transactions.duplicated().sum()"
   ]
  },
  {
   "cell_type": "markdown",
   "id": "99de649e",
   "metadata": {},
   "source": [
    "There are no duplicate values so the data is unique"
   ]
  },
  {
   "cell_type": "code",
   "execution_count": 11,
   "id": "acefdf49",
   "metadata": {},
   "outputs": [
    {
     "data": {
      "text/plain": [
       "Note: The data and information in this document is reflective of a hypothetical situation and client. This document is to be used for KPMG Virtual Internship purposes only.     20001\n",
       "Unnamed: 1                                                                                                                                                                         102\n",
       "Unnamed: 2                                                                                                                                                                        3495\n",
       "Unnamed: 3                                                                                                                                                                         365\n",
       "Unnamed: 4                                                                                                                                                                           3\n",
       "Unnamed: 5                                                                                                                                                                           3\n",
       "Unnamed: 6                                                                                                                                                                           7\n",
       "Unnamed: 7                                                                                                                                                                           5\n",
       "Unnamed: 8                                                                                                                                                                           4\n",
       "Unnamed: 9                                                                                                                                                                           4\n",
       "Unnamed: 10                                                                                                                                                                        297\n",
       "Unnamed: 11                                                                                                                                                                        104\n",
       "Unnamed: 12                                                                                                                                                                        101\n",
       "dtype: int64"
      ]
     },
     "execution_count": 11,
     "metadata": {},
     "output_type": "execute_result"
    }
   ],
   "source": [
    "#Check for the uniqueness of each column\n",
    "Transactions.nunique()"
   ]
  },
  {
   "cell_type": "code",
   "execution_count": 12,
   "id": "b401f1af",
   "metadata": {},
   "outputs": [
    {
     "data": {
      "text/plain": [
       "Index(['Note: The data and information in this document is reflective of a hypothetical situation and client. This document is to be used for KPMG Virtual Internship purposes only. ',\n",
       "       'Unnamed: 1', 'Unnamed: 2', 'Unnamed: 3', 'Unnamed: 4', 'Unnamed: 5',\n",
       "       'Unnamed: 6', 'Unnamed: 7', 'Unnamed: 8', 'Unnamed: 9', 'Unnamed: 10',\n",
       "       'Unnamed: 11', 'Unnamed: 12'],\n",
       "      dtype='object')"
      ]
     },
     "execution_count": 12,
     "metadata": {},
     "output_type": "execute_result"
    }
   ],
   "source": [
    "#Check for the columns \n",
    "Transactions.columns"
   ]
  },
  {
   "cell_type": "code",
   "execution_count": 13,
   "id": "2f7d4bab",
   "metadata": {},
   "outputs": [
    {
     "data": {
      "text/plain": [
       "0             1378\n",
       "3              354\n",
       "1              311\n",
       "35             268\n",
       "38             267\n",
       "              ... \n",
       "16             136\n",
       "8              136\n",
       "100            130\n",
       "47             121\n",
       "product_id       1\n",
       "Name: Unnamed: 1, Length: 102, dtype: int64"
      ]
     },
     "execution_count": 13,
     "metadata": {},
     "output_type": "execute_result"
    }
   ],
   "source": [
    "Transactions['Unnamed: 1'].value_counts()"
   ]
  },
  {
   "cell_type": "code",
   "execution_count": 14,
   "id": "21140a3b",
   "metadata": {},
   "outputs": [
    {
     "data": {
      "text/plain": [
       "2476    14\n",
       "1068    14\n",
       "2183    14\n",
       "3048    13\n",
       "1913    13\n",
       "        ..\n",
       "1544     1\n",
       "1325     1\n",
       "872      1\n",
       "2291     1\n",
       "2328     1\n",
       "Name: Unnamed: 2, Length: 3495, dtype: int64"
      ]
     },
     "execution_count": 14,
     "metadata": {},
     "output_type": "execute_result"
    }
   ],
   "source": [
    "Transactions['Unnamed: 2'].value_counts()"
   ]
  },
  {
   "cell_type": "code",
   "execution_count": 15,
   "id": "1229205c",
   "metadata": {},
   "outputs": [
    {
     "data": {
      "text/plain": [
       "2017-08-18 00:00:00    82\n",
       "2017-02-14 00:00:00    82\n",
       "2017-10-15 00:00:00    76\n",
       "2017-01-31 00:00:00    73\n",
       "2017-12-19 00:00:00    71\n",
       "                       ..\n",
       "2017-12-07 00:00:00    37\n",
       "2017-03-29 00:00:00    36\n",
       "2017-09-25 00:00:00    35\n",
       "2017-10-19 00:00:00    32\n",
       "transaction_date        1\n",
       "Name: Unnamed: 3, Length: 365, dtype: int64"
      ]
     },
     "execution_count": 15,
     "metadata": {},
     "output_type": "execute_result"
    }
   ],
   "source": [
    "Transactions['Unnamed: 3'].value_counts()"
   ]
  },
  {
   "cell_type": "code",
   "execution_count": 16,
   "id": "a21fefc4",
   "metadata": {},
   "outputs": [
    {
     "data": {
      "text/plain": [
       "True            9829\n",
       "False           9811\n",
       "online_order       1\n",
       "Name: Unnamed: 4, dtype: int64"
      ]
     },
     "execution_count": 16,
     "metadata": {},
     "output_type": "execute_result"
    }
   ],
   "source": [
    "Transactions['Unnamed: 4'].value_counts()"
   ]
  },
  {
   "cell_type": "code",
   "execution_count": 17,
   "id": "b6d867b1",
   "metadata": {},
   "outputs": [
    {
     "data": {
      "text/plain": [
       "Approved        19821\n",
       "Cancelled         179\n",
       "order_status        1\n",
       "Name: Unnamed: 5, dtype: int64"
      ]
     },
     "execution_count": 17,
     "metadata": {},
     "output_type": "execute_result"
    }
   ],
   "source": [
    "Transactions['Unnamed: 5'].value_counts()"
   ]
  },
  {
   "cell_type": "code",
   "execution_count": 18,
   "id": "920fcc1d",
   "metadata": {},
   "outputs": [
    {
     "data": {
      "text/plain": [
       "Solex             4253\n",
       "Giant Bicycles    3312\n",
       "WeareA2B          3295\n",
       "OHM Cycles        3043\n",
       "Trek Bicycles     2990\n",
       "Norco Bicycles    2910\n",
       "brand                1\n",
       "Name: Unnamed: 6, dtype: int64"
      ]
     },
     "execution_count": 18,
     "metadata": {},
     "output_type": "execute_result"
    }
   ],
   "source": [
    "Transactions['Unnamed: 6'].value_counts()"
   ]
  },
  {
   "cell_type": "code",
   "execution_count": 19,
   "id": "0fe60abd",
   "metadata": {},
   "outputs": [
    {
     "data": {
      "text/plain": [
       "Standard        14176\n",
       "Road             3970\n",
       "Touring          1234\n",
       "Mountain          423\n",
       "product_line        1\n",
       "Name: Unnamed: 7, dtype: int64"
      ]
     },
     "execution_count": 19,
     "metadata": {},
     "output_type": "execute_result"
    }
   ],
   "source": [
    "Transactions['Unnamed: 7'].value_counts()"
   ]
  },
  {
   "cell_type": "code",
   "execution_count": 20,
   "id": "77188b33",
   "metadata": {},
   "outputs": [
    {
     "data": {
      "text/plain": [
       "medium           13826\n",
       "high              3013\n",
       "low               2964\n",
       "product_class        1\n",
       "Name: Unnamed: 8, dtype: int64"
      ]
     },
     "execution_count": 20,
     "metadata": {},
     "output_type": "execute_result"
    }
   ],
   "source": [
    "Transactions['Unnamed: 8'].value_counts()"
   ]
  },
  {
   "cell_type": "code",
   "execution_count": 21,
   "id": "15ab9619",
   "metadata": {},
   "outputs": [
    {
     "data": {
      "text/plain": [
       "medium          12990\n",
       "large            3976\n",
       "small            2837\n",
       "product_size        1\n",
       "Name: Unnamed: 9, dtype: int64"
      ]
     },
     "execution_count": 21,
     "metadata": {},
     "output_type": "execute_result"
    }
   ],
   "source": [
    "Transactions['Unnamed: 9'].value_counts()"
   ]
  },
  {
   "cell_type": "code",
   "execution_count": 22,
   "id": "61115e91",
   "metadata": {},
   "outputs": [
    {
     "data": {
      "text/plain": [
       "2091.47    465\n",
       "1403.50    396\n",
       "71.49      274\n",
       "1231.15    235\n",
       "1890.39    233\n",
       "          ... \n",
       "875.99       1\n",
       "877.44       1\n",
       "880.30       1\n",
       "883.91       1\n",
       "1148.41      1\n",
       "Name: Unnamed: 10, Length: 297, dtype: int64"
      ]
     },
     "execution_count": 22,
     "metadata": {},
     "output_type": "execute_result"
    }
   ],
   "source": [
    "Transactions['Unnamed: 10'].value_counts()"
   ]
  },
  {
   "cell_type": "code",
   "execution_count": 23,
   "id": "e3a7afbb",
   "metadata": {},
   "outputs": [
    {
     "data": {
      "text/plain": [
       "388.92           465\n",
       "954.82           396\n",
       "53.62            274\n",
       "161.6            235\n",
       "260.14           233\n",
       "                ... \n",
       "206.35           114\n",
       "standard_cost      1\n",
       "667.4000244        1\n",
       "312.7350159        1\n",
       "270.2999878        1\n",
       "Name: Unnamed: 11, Length: 104, dtype: int64"
      ]
     },
     "execution_count": 23,
     "metadata": {},
     "output_type": "execute_result"
    }
   ],
   "source": [
    "Transactions['Unnamed: 11'].value_counts()"
   ]
  },
  {
   "cell_type": "code",
   "execution_count": 24,
   "id": "1219abee",
   "metadata": {},
   "outputs": [
    {
     "data": {
      "text/plain": [
       "33879                      234\n",
       "41064                      229\n",
       "37823                      227\n",
       "39880                      222\n",
       "38216                      220\n",
       "                          ... \n",
       "42404                      168\n",
       "41922                      166\n",
       "37659                      163\n",
       "34586                      162\n",
       "product_first_sold_date      1\n",
       "Name: Unnamed: 12, Length: 101, dtype: int64"
      ]
     },
     "execution_count": 24,
     "metadata": {},
     "output_type": "execute_result"
    }
   ],
   "source": [
    "Transactions['Unnamed: 12'].value_counts()"
   ]
  },
  {
   "cell_type": "code",
   "execution_count": 25,
   "id": "656ccbb9",
   "metadata": {},
   "outputs": [
    {
     "data": {
      "text/plain": [
       "0        transaction_date\n",
       "1     2017-02-25 00:00:00\n",
       "2     2017-05-21 00:00:00\n",
       "3     2017-10-16 00:00:00\n",
       "4     2017-08-31 00:00:00\n",
       "5     2017-10-01 00:00:00\n",
       "6     2017-03-08 00:00:00\n",
       "7     2017-04-21 00:00:00\n",
       "8     2017-07-15 00:00:00\n",
       "9     2017-08-10 00:00:00\n",
       "10    2017-08-30 00:00:00\n",
       "11    2017-01-17 00:00:00\n",
       "12    2017-01-05 00:00:00\n",
       "13    2017-02-26 00:00:00\n",
       "14    2017-09-10 00:00:00\n",
       "15    2017-06-11 00:00:00\n",
       "16    2017-10-10 00:00:00\n",
       "17    2017-04-03 00:00:00\n",
       "18    2017-06-02 00:00:00\n",
       "19    2017-04-06 00:00:00\n",
       "Name: Unnamed: 3, dtype: object"
      ]
     },
     "execution_count": 25,
     "metadata": {},
     "output_type": "execute_result"
    }
   ],
   "source": [
    "Transactions['Unnamed: 3'].head(20)"
   ]
  },
  {
   "cell_type": "markdown",
   "id": "44cd0beb",
   "metadata": {},
   "source": [
    "The values in the Unnamed: 3 is columns are correct as it shows everything happening at the different day at the different time "
   ]
  },
  {
   "cell_type": "markdown",
   "id": "7eec7ef7",
   "metadata": {},
   "source": [
    "Exploring the NewCustomerList dataset"
   ]
  },
  {
   "cell_type": "code",
   "execution_count": 26,
   "id": "b551f4c8",
   "metadata": {},
   "outputs": [
    {
     "data": {
      "text/html": [
       "<div>\n",
       "<style scoped>\n",
       "    .dataframe tbody tr th:only-of-type {\n",
       "        vertical-align: middle;\n",
       "    }\n",
       "\n",
       "    .dataframe tbody tr th {\n",
       "        vertical-align: top;\n",
       "    }\n",
       "\n",
       "    .dataframe thead th {\n",
       "        text-align: right;\n",
       "    }\n",
       "</style>\n",
       "<table border=\"1\" class=\"dataframe\">\n",
       "  <thead>\n",
       "    <tr style=\"text-align: right;\">\n",
       "      <th></th>\n",
       "      <th>Note: The data and information in this document is reflective of a hypothetical situation and client. This document is to be used for KPMG Virtual Internship purposes only.</th>\n",
       "      <th>Unnamed: 1</th>\n",
       "      <th>Unnamed: 2</th>\n",
       "      <th>Unnamed: 3</th>\n",
       "      <th>Unnamed: 4</th>\n",
       "      <th>Unnamed: 5</th>\n",
       "      <th>Unnamed: 6</th>\n",
       "      <th>Unnamed: 7</th>\n",
       "      <th>Unnamed: 8</th>\n",
       "      <th>Unnamed: 9</th>\n",
       "      <th>...</th>\n",
       "      <th>Unnamed: 13</th>\n",
       "      <th>Unnamed: 14</th>\n",
       "      <th>Unnamed: 15</th>\n",
       "      <th>Unnamed: 16</th>\n",
       "      <th>Unnamed: 17</th>\n",
       "      <th>Unnamed: 18</th>\n",
       "      <th>Unnamed: 19</th>\n",
       "      <th>Unnamed: 20</th>\n",
       "      <th>Unnamed: 21</th>\n",
       "      <th>Unnamed: 22</th>\n",
       "    </tr>\n",
       "  </thead>\n",
       "  <tbody>\n",
       "    <tr>\n",
       "      <th>0</th>\n",
       "      <td>first_name</td>\n",
       "      <td>last_name</td>\n",
       "      <td>gender</td>\n",
       "      <td>past_3_years_bike_related_purchases</td>\n",
       "      <td>DOB</td>\n",
       "      <td>job_title</td>\n",
       "      <td>job_industry_category</td>\n",
       "      <td>wealth_segment</td>\n",
       "      <td>deceased_indicator</td>\n",
       "      <td>owns_car</td>\n",
       "      <td>...</td>\n",
       "      <td>state</td>\n",
       "      <td>country</td>\n",
       "      <td>property_valuation</td>\n",
       "      <td>NaN</td>\n",
       "      <td>NaN</td>\n",
       "      <td>NaN</td>\n",
       "      <td>NaN</td>\n",
       "      <td>NaN</td>\n",
       "      <td>Rank</td>\n",
       "      <td>Value</td>\n",
       "    </tr>\n",
       "    <tr>\n",
       "      <th>1</th>\n",
       "      <td>Chickie</td>\n",
       "      <td>Brister</td>\n",
       "      <td>Male</td>\n",
       "      <td>86</td>\n",
       "      <td>1957-07-12</td>\n",
       "      <td>General Manager</td>\n",
       "      <td>Manufacturing</td>\n",
       "      <td>Mass Customer</td>\n",
       "      <td>N</td>\n",
       "      <td>Yes</td>\n",
       "      <td>...</td>\n",
       "      <td>QLD</td>\n",
       "      <td>Australia</td>\n",
       "      <td>6</td>\n",
       "      <td>0.56</td>\n",
       "      <td>0.7000</td>\n",
       "      <td>0.8750</td>\n",
       "      <td>0.743750</td>\n",
       "      <td>1.0</td>\n",
       "      <td>1</td>\n",
       "      <td>1.71875</td>\n",
       "    </tr>\n",
       "    <tr>\n",
       "      <th>2</th>\n",
       "      <td>Morly</td>\n",
       "      <td>Genery</td>\n",
       "      <td>Male</td>\n",
       "      <td>69</td>\n",
       "      <td>1970-03-22</td>\n",
       "      <td>Structural Engineer</td>\n",
       "      <td>Property</td>\n",
       "      <td>Mass Customer</td>\n",
       "      <td>N</td>\n",
       "      <td>No</td>\n",
       "      <td>...</td>\n",
       "      <td>NSW</td>\n",
       "      <td>Australia</td>\n",
       "      <td>11</td>\n",
       "      <td>0.89</td>\n",
       "      <td>0.8900</td>\n",
       "      <td>1.1125</td>\n",
       "      <td>0.945625</td>\n",
       "      <td>1.0</td>\n",
       "      <td>1</td>\n",
       "      <td>1.71875</td>\n",
       "    </tr>\n",
       "    <tr>\n",
       "      <th>3</th>\n",
       "      <td>Ardelis</td>\n",
       "      <td>Forrester</td>\n",
       "      <td>Female</td>\n",
       "      <td>10</td>\n",
       "      <td>1974-08-28 00:00:00</td>\n",
       "      <td>Senior Cost Accountant</td>\n",
       "      <td>Financial Services</td>\n",
       "      <td>Affluent Customer</td>\n",
       "      <td>N</td>\n",
       "      <td>No</td>\n",
       "      <td>...</td>\n",
       "      <td>VIC</td>\n",
       "      <td>Australia</td>\n",
       "      <td>5</td>\n",
       "      <td>1.01</td>\n",
       "      <td>1.0100</td>\n",
       "      <td>1.0100</td>\n",
       "      <td>1.010000</td>\n",
       "      <td>1.0</td>\n",
       "      <td>1</td>\n",
       "      <td>1.71875</td>\n",
       "    </tr>\n",
       "    <tr>\n",
       "      <th>4</th>\n",
       "      <td>Lucine</td>\n",
       "      <td>Stutt</td>\n",
       "      <td>Female</td>\n",
       "      <td>64</td>\n",
       "      <td>1979-01-28</td>\n",
       "      <td>Account Representative III</td>\n",
       "      <td>Manufacturing</td>\n",
       "      <td>Affluent Customer</td>\n",
       "      <td>N</td>\n",
       "      <td>Yes</td>\n",
       "      <td>...</td>\n",
       "      <td>QLD</td>\n",
       "      <td>Australia</td>\n",
       "      <td>1</td>\n",
       "      <td>0.87</td>\n",
       "      <td>1.0875</td>\n",
       "      <td>1.0875</td>\n",
       "      <td>1.087500</td>\n",
       "      <td>4.0</td>\n",
       "      <td>4</td>\n",
       "      <td>1.703125</td>\n",
       "    </tr>\n",
       "  </tbody>\n",
       "</table>\n",
       "<p>5 rows × 23 columns</p>\n",
       "</div>"
      ],
      "text/plain": [
       "  Note: The data and information in this document is reflective of a hypothetical situation and client. This document is to be used for KPMG Virtual Internship purposes only.   \\\n",
       "0                                         first_name                                                                                                                              \n",
       "1                                            Chickie                                                                                                                              \n",
       "2                                              Morly                                                                                                                              \n",
       "3                                            Ardelis                                                                                                                              \n",
       "4                                             Lucine                                                                                                                              \n",
       "\n",
       "  Unnamed: 1 Unnamed: 2                           Unnamed: 3  \\\n",
       "0  last_name     gender  past_3_years_bike_related_purchases   \n",
       "1    Brister       Male                                   86   \n",
       "2     Genery       Male                                   69   \n",
       "3  Forrester     Female                                   10   \n",
       "4      Stutt     Female                                   64   \n",
       "\n",
       "            Unnamed: 4                  Unnamed: 5             Unnamed: 6  \\\n",
       "0                  DOB                   job_title  job_industry_category   \n",
       "1           1957-07-12             General Manager          Manufacturing   \n",
       "2           1970-03-22         Structural Engineer               Property   \n",
       "3  1974-08-28 00:00:00      Senior Cost Accountant     Financial Services   \n",
       "4           1979-01-28  Account Representative III          Manufacturing   \n",
       "\n",
       "          Unnamed: 7          Unnamed: 8 Unnamed: 9  ... Unnamed: 13  \\\n",
       "0     wealth_segment  deceased_indicator   owns_car  ...       state   \n",
       "1      Mass Customer                   N        Yes  ...         QLD   \n",
       "2      Mass Customer                   N         No  ...         NSW   \n",
       "3  Affluent Customer                   N         No  ...         VIC   \n",
       "4  Affluent Customer                   N        Yes  ...         QLD   \n",
       "\n",
       "  Unnamed: 14         Unnamed: 15 Unnamed: 16 Unnamed: 17 Unnamed: 18  \\\n",
       "0     country  property_valuation         NaN         NaN         NaN   \n",
       "1   Australia                   6        0.56      0.7000      0.8750   \n",
       "2   Australia                  11        0.89      0.8900      1.1125   \n",
       "3   Australia                   5        1.01      1.0100      1.0100   \n",
       "4   Australia                   1        0.87      1.0875      1.0875   \n",
       "\n",
       "   Unnamed: 19  Unnamed: 20  Unnamed: 21  Unnamed: 22  \n",
       "0          NaN          NaN         Rank        Value  \n",
       "1     0.743750          1.0            1      1.71875  \n",
       "2     0.945625          1.0            1      1.71875  \n",
       "3     1.010000          1.0            1      1.71875  \n",
       "4     1.087500          4.0            4     1.703125  \n",
       "\n",
       "[5 rows x 23 columns]"
      ]
     },
     "execution_count": 26,
     "metadata": {},
     "output_type": "execute_result"
    }
   ],
   "source": [
    "NewCustomerList.head(5)"
   ]
  },
  {
   "cell_type": "code",
   "execution_count": 27,
   "id": "6defbe63",
   "metadata": {},
   "outputs": [
    {
     "name": "stdout",
     "output_type": "stream",
     "text": [
      "<class 'pandas.core.frame.DataFrame'>\n",
      "RangeIndex: 1001 entries, 0 to 1000\n",
      "Data columns (total 23 columns):\n",
      " #   Column                                                                                                                                                                         Non-Null Count  Dtype  \n",
      "---  ------                                                                                                                                                                         --------------  -----  \n",
      " 0   Note: The data and information in this document is reflective of a hypothetical situation and client. This document is to be used for KPMG Virtual Internship purposes only.   1001 non-null   object \n",
      " 1   Unnamed: 1                                                                                                                                                                     972 non-null    object \n",
      " 2   Unnamed: 2                                                                                                                                                                     1001 non-null   object \n",
      " 3   Unnamed: 3                                                                                                                                                                     1001 non-null   object \n",
      " 4   Unnamed: 4                                                                                                                                                                     984 non-null    object \n",
      " 5   Unnamed: 5                                                                                                                                                                     895 non-null    object \n",
      " 6   Unnamed: 6                                                                                                                                                                     836 non-null    object \n",
      " 7   Unnamed: 7                                                                                                                                                                     1001 non-null   object \n",
      " 8   Unnamed: 8                                                                                                                                                                     1001 non-null   object \n",
      " 9   Unnamed: 9                                                                                                                                                                     1001 non-null   object \n",
      " 10  Unnamed: 10                                                                                                                                                                    1001 non-null   object \n",
      " 11  Unnamed: 11                                                                                                                                                                    1001 non-null   object \n",
      " 12  Unnamed: 12                                                                                                                                                                    1001 non-null   object \n",
      " 13  Unnamed: 13                                                                                                                                                                    1001 non-null   object \n",
      " 14  Unnamed: 14                                                                                                                                                                    1001 non-null   object \n",
      " 15  Unnamed: 15                                                                                                                                                                    1001 non-null   object \n",
      " 16  Unnamed: 16                                                                                                                                                                    1000 non-null   float64\n",
      " 17  Unnamed: 17                                                                                                                                                                    1000 non-null   float64\n",
      " 18  Unnamed: 18                                                                                                                                                                    1000 non-null   float64\n",
      " 19  Unnamed: 19                                                                                                                                                                    1000 non-null   float64\n",
      " 20  Unnamed: 20                                                                                                                                                                    1000 non-null   float64\n",
      " 21  Unnamed: 21                                                                                                                                                                    1001 non-null   object \n",
      " 22  Unnamed: 22                                                                                                                                                                    1001 non-null   object \n",
      "dtypes: float64(5), object(18)\n",
      "memory usage: 180.0+ KB\n"
     ]
    }
   ],
   "source": [
    "NewCustomerList.info()"
   ]
  },
  {
   "cell_type": "code",
   "execution_count": 28,
   "id": "0446b10a",
   "metadata": {},
   "outputs": [],
   "source": [
    "#Dropping the float values\n",
    "NewCustomerList.drop(['Unnamed: 16','Unnamed: 17','Unnamed: 18','Unnamed: 19','Unnamed: 20'], axis=1, inplace=True)"
   ]
  },
  {
   "cell_type": "code",
   "execution_count": 29,
   "id": "6b4ffa50",
   "metadata": {},
   "outputs": [
    {
     "data": {
      "text/plain": [
       "(1001, 18)"
      ]
     },
     "execution_count": 29,
     "metadata": {},
     "output_type": "execute_result"
    }
   ],
   "source": [
    "#Checking the shape of the dataset\n",
    "NewCustomerList.shape"
   ]
  },
  {
   "cell_type": "code",
   "execution_count": 30,
   "id": "dd920a9b",
   "metadata": {},
   "outputs": [
    {
     "data": {
      "text/plain": [
       "Note: The data and information in this document is reflective of a hypothetical situation and client. This document is to be used for KPMG Virtual Internship purposes only.       0\n",
       "Unnamed: 1                                                                                                                                                                        29\n",
       "Unnamed: 2                                                                                                                                                                         0\n",
       "Unnamed: 3                                                                                                                                                                         0\n",
       "Unnamed: 4                                                                                                                                                                        17\n",
       "Unnamed: 5                                                                                                                                                                       106\n",
       "Unnamed: 6                                                                                                                                                                       165\n",
       "Unnamed: 7                                                                                                                                                                         0\n",
       "Unnamed: 8                                                                                                                                                                         0\n",
       "Unnamed: 9                                                                                                                                                                         0\n",
       "Unnamed: 10                                                                                                                                                                        0\n",
       "Unnamed: 11                                                                                                                                                                        0\n",
       "Unnamed: 12                                                                                                                                                                        0\n",
       "Unnamed: 13                                                                                                                                                                        0\n",
       "Unnamed: 14                                                                                                                                                                        0\n",
       "Unnamed: 15                                                                                                                                                                        0\n",
       "Unnamed: 21                                                                                                                                                                        0\n",
       "Unnamed: 22                                                                                                                                                                        0\n",
       "dtype: int64"
      ]
     },
     "execution_count": 30,
     "metadata": {},
     "output_type": "execute_result"
    }
   ],
   "source": [
    "#Checking for null values\n",
    "NewCustomerList.isnull().sum()"
   ]
  },
  {
   "cell_type": "markdown",
   "id": "f28575a8",
   "metadata": {},
   "source": [
    "There are missing values in 4 columns. They can be dropped or treated according to the nature of analysis\n"
   ]
  },
  {
   "cell_type": "code",
   "execution_count": 31,
   "id": "4f25d9c3",
   "metadata": {},
   "outputs": [
    {
     "data": {
      "text/plain": [
       "0"
      ]
     },
     "execution_count": 31,
     "metadata": {},
     "output_type": "execute_result"
    }
   ],
   "source": [
    "#Checking for duplicate values\n",
    "NewCustomerList.duplicated().sum()"
   ]
  },
  {
   "cell_type": "markdown",
   "id": "a3a53d80",
   "metadata": {},
   "source": [
    "There are no duplicate values "
   ]
  },
  {
   "cell_type": "code",
   "execution_count": 32,
   "id": "e091eef6",
   "metadata": {},
   "outputs": [
    {
     "data": {
      "text/plain": [
       "Note: The data and information in this document is reflective of a hypothetical situation and client. This document is to be used for KPMG Virtual Internship purposes only.      941\n",
       "Unnamed: 1                                                                                                                                                                        962\n",
       "Unnamed: 2                                                                                                                                                                          4\n",
       "Unnamed: 3                                                                                                                                                                        101\n",
       "Unnamed: 4                                                                                                                                                                        962\n",
       "Unnamed: 5                                                                                                                                                                        185\n",
       "Unnamed: 6                                                                                                                                                                         10\n",
       "Unnamed: 7                                                                                                                                                                          4\n",
       "Unnamed: 8                                                                                                                                                                          2\n",
       "Unnamed: 9                                                                                                                                                                          3\n",
       "Unnamed: 10                                                                                                                                                                        24\n",
       "Unnamed: 11                                                                                                                                                                      1001\n",
       "Unnamed: 12                                                                                                                                                                       523\n",
       "Unnamed: 13                                                                                                                                                                         4\n",
       "Unnamed: 14                                                                                                                                                                         2\n",
       "Unnamed: 15                                                                                                                                                                        17\n",
       "Unnamed: 21                                                                                                                                                                       325\n",
       "Unnamed: 22                                                                                                                                                                       325\n",
       "dtype: int64"
      ]
     },
     "execution_count": 32,
     "metadata": {},
     "output_type": "execute_result"
    }
   ],
   "source": [
    "#Checking for uniquess of each column\n",
    "NewCustomerList.nunique()"
   ]
  },
  {
   "cell_type": "code",
   "execution_count": 33,
   "id": "3c1a2720",
   "metadata": {},
   "outputs": [
    {
     "data": {
      "text/plain": [
       "Index(['Note: The data and information in this document is reflective of a hypothetical situation and client. This document is to be used for KPMG Virtual Internship purposes only. ',\n",
       "       'Unnamed: 1', 'Unnamed: 2', 'Unnamed: 3', 'Unnamed: 4', 'Unnamed: 5',\n",
       "       'Unnamed: 6', 'Unnamed: 7', 'Unnamed: 8', 'Unnamed: 9', 'Unnamed: 10',\n",
       "       'Unnamed: 11', 'Unnamed: 12', 'Unnamed: 13', 'Unnamed: 14',\n",
       "       'Unnamed: 15', 'Unnamed: 21', 'Unnamed: 22'],\n",
       "      dtype='object')"
      ]
     },
     "execution_count": 33,
     "metadata": {},
     "output_type": "execute_result"
    }
   ],
   "source": [
    "#Exploring the columns \n",
    "NewCustomerList.columns"
   ]
  },
  {
   "cell_type": "code",
   "execution_count": 34,
   "id": "70652930",
   "metadata": {},
   "outputs": [
    {
     "data": {
      "text/plain": [
       "Borsi         2\n",
       "Hallt         2\n",
       "Eade          2\n",
       "Shoesmith     2\n",
       "Sissel        2\n",
       "             ..\n",
       "Clee          1\n",
       "Fraschetti    1\n",
       "Dowyer        1\n",
       "Terlinden     1\n",
       "Roseman       1\n",
       "Name: Unnamed: 1, Length: 962, dtype: int64"
      ]
     },
     "execution_count": 34,
     "metadata": {},
     "output_type": "execute_result"
    }
   ],
   "source": [
    "NewCustomerList['Unnamed: 1'].value_counts()"
   ]
  },
  {
   "cell_type": "code",
   "execution_count": 35,
   "id": "ce1e8f0b",
   "metadata": {},
   "outputs": [
    {
     "data": {
      "text/plain": [
       "Female    513\n",
       "Male      470\n",
       "U          17\n",
       "gender      1\n",
       "Name: Unnamed: 2, dtype: int64"
      ]
     },
     "execution_count": 35,
     "metadata": {},
     "output_type": "execute_result"
    }
   ],
   "source": [
    "NewCustomerList['Unnamed: 2'].value_counts()"
   ]
  },
  {
   "cell_type": "markdown",
   "id": "dca4a542",
   "metadata": {},
   "source": [
    "There are 17 unknown/unspecified gender"
   ]
  },
  {
   "cell_type": "code",
   "execution_count": 36,
   "id": "415cfc2c",
   "metadata": {},
   "outputs": [
    {
     "data": {
      "text/plain": [
       "60                                     20\n",
       "59                                     18\n",
       "70                                     17\n",
       "42                                     17\n",
       "37                                     16\n",
       "                                       ..\n",
       "9                                       5\n",
       "92                                      5\n",
       "85                                      4\n",
       "20                                      3\n",
       "past_3_years_bike_related_purchases     1\n",
       "Name: Unnamed: 3, Length: 101, dtype: int64"
      ]
     },
     "execution_count": 36,
     "metadata": {},
     "output_type": "execute_result"
    }
   ],
   "source": [
    "NewCustomerList['Unnamed: 3'].value_counts()"
   ]
  },
  {
   "cell_type": "code",
   "execution_count": 37,
   "id": "4f7a2912",
   "metadata": {},
   "outputs": [
    {
     "data": {
      "text/plain": [
       "1951-11-28             2\n",
       "1979-07-28             2\n",
       "1961-07-31             2\n",
       "1941-07-21             2\n",
       "1959-09-18             2\n",
       "                      ..\n",
       "1995-12-09             1\n",
       "1954-10-19             1\n",
       "1974-06-08 00:00:00    1\n",
       "1965-04-22             1\n",
       "1951-09-16             1\n",
       "Name: Unnamed: 4, Length: 962, dtype: int64"
      ]
     },
     "execution_count": 37,
     "metadata": {},
     "output_type": "execute_result"
    }
   ],
   "source": [
    "NewCustomerList['Unnamed: 4'].value_counts()"
   ]
  },
  {
   "cell_type": "code",
   "execution_count": 38,
   "id": "bb9e89c6",
   "metadata": {},
   "outputs": [
    {
     "data": {
      "text/plain": [
       "Associate Professor             15\n",
       "Software Consultant             14\n",
       "Environmental Tech              14\n",
       "Chief Design Engineer           13\n",
       "VP Sales                        12\n",
       "                                ..\n",
       "Computer Systems Analyst III     1\n",
       "Database Administrator IV        1\n",
       "Computer Systems Analyst II      1\n",
       "Health Coach I                   1\n",
       "Safety Technician IV             1\n",
       "Name: Unnamed: 5, Length: 185, dtype: int64"
      ]
     },
     "execution_count": 38,
     "metadata": {},
     "output_type": "execute_result"
    }
   ],
   "source": [
    "NewCustomerList['Unnamed: 5'].value_counts()"
   ]
  },
  {
   "cell_type": "code",
   "execution_count": 39,
   "id": "797607e2",
   "metadata": {},
   "outputs": [
    {
     "data": {
      "text/plain": [
       "Financial Services       203\n",
       "Manufacturing            199\n",
       "Health                   152\n",
       "Retail                    78\n",
       "Property                  64\n",
       "IT                        51\n",
       "Entertainment             37\n",
       "Argiculture               26\n",
       "Telecommunications        25\n",
       "job_industry_category      1\n",
       "Name: Unnamed: 6, dtype: int64"
      ]
     },
     "execution_count": 39,
     "metadata": {},
     "output_type": "execute_result"
    }
   ],
   "source": [
    "NewCustomerList['Unnamed: 6'].value_counts()"
   ]
  },
  {
   "cell_type": "code",
   "execution_count": 40,
   "id": "c95056e4",
   "metadata": {},
   "outputs": [
    {
     "data": {
      "text/plain": [
       "Mass Customer        508\n",
       "High Net Worth       251\n",
       "Affluent Customer    241\n",
       "wealth_segment         1\n",
       "Name: Unnamed: 7, dtype: int64"
      ]
     },
     "execution_count": 40,
     "metadata": {},
     "output_type": "execute_result"
    }
   ],
   "source": [
    "NewCustomerList['Unnamed: 7'].value_counts()"
   ]
  },
  {
   "cell_type": "code",
   "execution_count": 41,
   "id": "b2dca48f",
   "metadata": {},
   "outputs": [
    {
     "data": {
      "text/plain": [
       "N                     1000\n",
       "deceased_indicator       1\n",
       "Name: Unnamed: 8, dtype: int64"
      ]
     },
     "execution_count": 41,
     "metadata": {},
     "output_type": "execute_result"
    }
   ],
   "source": [
    "NewCustomerList['Unnamed: 8'].value_counts()"
   ]
  },
  {
   "cell_type": "code",
   "execution_count": 42,
   "id": "1fdd267b",
   "metadata": {},
   "outputs": [
    {
     "data": {
      "text/plain": [
       "No          507\n",
       "Yes         493\n",
       "owns_car      1\n",
       "Name: Unnamed: 9, dtype: int64"
      ]
     },
     "execution_count": 42,
     "metadata": {},
     "output_type": "execute_result"
    }
   ],
   "source": [
    "NewCustomerList['Unnamed: 9'].value_counts()"
   ]
  },
  {
   "cell_type": "code",
   "execution_count": 43,
   "id": "6196f2c3",
   "metadata": {},
   "outputs": [
    {
     "data": {
      "text/plain": [
       "9         79\n",
       "13        74\n",
       "11        68\n",
       "10        63\n",
       "12        61\n",
       "5         60\n",
       "7         60\n",
       "17        59\n",
       "15        58\n",
       "8         55\n",
       "14        54\n",
       "16        49\n",
       "6         45\n",
       "4         36\n",
       "18        36\n",
       "19        34\n",
       "3         26\n",
       "21        24\n",
       "20        22\n",
       "2         15\n",
       "22        12\n",
       "1          8\n",
       "0          2\n",
       "tenure     1\n",
       "Name: Unnamed: 10, dtype: int64"
      ]
     },
     "execution_count": 43,
     "metadata": {},
     "output_type": "execute_result"
    }
   ],
   "source": [
    "NewCustomerList['Unnamed: 10'].value_counts()"
   ]
  },
  {
   "cell_type": "code",
   "execution_count": 44,
   "id": "a73fa376",
   "metadata": {},
   "outputs": [
    {
     "data": {
      "text/plain": [
       "4 Manufacturers Crossing    1\n",
       "19 Debs Parkway             1\n",
       "38407 Sutteridge Circle     1\n",
       "56334 Vera Crossing         1\n",
       "77785 Veith Lane            1\n",
       "                           ..\n",
       "266 Lakewood Terrace        1\n",
       "62 Dryden Junction          1\n",
       "1 Raven Way                 1\n",
       "432 Ronald Regan Court      1\n",
       "73 Riverside Trail          1\n",
       "Name: Unnamed: 11, Length: 1001, dtype: int64"
      ]
     },
     "execution_count": 44,
     "metadata": {},
     "output_type": "execute_result"
    }
   ],
   "source": [
    "NewCustomerList['Unnamed: 11'].value_counts()"
   ]
  },
  {
   "cell_type": "code",
   "execution_count": 45,
   "id": "7a5d64ad",
   "metadata": {},
   "outputs": [
    {
     "data": {
      "text/plain": [
       "2232    9\n",
       "2145    9\n",
       "3977    7\n",
       "3029    7\n",
       "2168    7\n",
       "       ..\n",
       "2539    1\n",
       "2518    1\n",
       "2422    1\n",
       "3930    1\n",
       "4183    1\n",
       "Name: Unnamed: 12, Length: 523, dtype: int64"
      ]
     },
     "execution_count": 45,
     "metadata": {},
     "output_type": "execute_result"
    }
   ],
   "source": [
    "NewCustomerList['Unnamed: 12'].value_counts()"
   ]
  },
  {
   "cell_type": "code",
   "execution_count": 46,
   "id": "76fd8bb8",
   "metadata": {},
   "outputs": [
    {
     "data": {
      "text/plain": [
       "NSW      506\n",
       "VIC      266\n",
       "QLD      228\n",
       "state      1\n",
       "Name: Unnamed: 13, dtype: int64"
      ]
     },
     "execution_count": 46,
     "metadata": {},
     "output_type": "execute_result"
    }
   ],
   "source": [
    "NewCustomerList['Unnamed: 13'].value_counts()"
   ]
  },
  {
   "cell_type": "code",
   "execution_count": 47,
   "id": "e8657757",
   "metadata": {},
   "outputs": [
    {
     "data": {
      "text/plain": [
       "Australia    1000\n",
       "country         1\n",
       "Name: Unnamed: 14, dtype: int64"
      ]
     },
     "execution_count": 47,
     "metadata": {},
     "output_type": "execute_result"
    }
   ],
   "source": [
    "NewCustomerList['Unnamed: 14'].value_counts()"
   ]
  },
  {
   "cell_type": "code",
   "execution_count": 48,
   "id": "a55286d9",
   "metadata": {},
   "outputs": [
    {
     "data": {
      "text/plain": [
       "9                     173\n",
       "8                     161\n",
       "7                     136\n",
       "10                    116\n",
       "6                      69\n",
       "11                     61\n",
       "5                      57\n",
       "4                      53\n",
       "3                      51\n",
       "12                     46\n",
       "2                      42\n",
       "1                      30\n",
       "7                       2\n",
       "property_valuation      1\n",
       "11                      1\n",
       "8                       1\n",
       "6                       1\n",
       "Name: Unnamed: 15, dtype: int64"
      ]
     },
     "execution_count": 48,
     "metadata": {},
     "output_type": "execute_result"
    }
   ],
   "source": [
    "NewCustomerList['Unnamed: 15'].value_counts()"
   ]
  },
  {
   "cell_type": "code",
   "execution_count": 49,
   "id": "95252e66",
   "metadata": {},
   "outputs": [
    {
     "data": {
      "text/plain": [
       "760    13\n",
       "259    12\n",
       "386     9\n",
       "133     9\n",
       "455     9\n",
       "       ..\n",
       "355     1\n",
       "574     1\n",
       "12      1\n",
       "641     1\n",
       "249     1\n",
       "Name: Unnamed: 21, Length: 325, dtype: int64"
      ]
     },
     "execution_count": 49,
     "metadata": {},
     "output_type": "execute_result"
    }
   ],
   "source": [
    "NewCustomerList['Unnamed: 21'].value_counts()"
   ]
  },
  {
   "cell_type": "code",
   "execution_count": 50,
   "id": "96af3ca5",
   "metadata": {},
   "outputs": [
    {
     "data": {
      "text/plain": [
       "0.6375    13\n",
       "1.0625    12\n",
       "0.8925     9\n",
       "1.2375     9\n",
       "0.5        9\n",
       "          ..\n",
       "0.867      1\n",
       "Value      1\n",
       "0.476      1\n",
       "0.63       1\n",
       "0.94       1\n",
       "Name: Unnamed: 22, Length: 325, dtype: int64"
      ]
     },
     "execution_count": 50,
     "metadata": {},
     "output_type": "execute_result"
    }
   ],
   "source": [
    "NewCustomerList['Unnamed: 22'].value_counts()"
   ]
  },
  {
   "cell_type": "markdown",
   "id": "e6e30c77",
   "metadata": {},
   "source": [
    "Exploring CustomerDemographic Dataset"
   ]
  },
  {
   "cell_type": "code",
   "execution_count": 51,
   "id": "475aba7d",
   "metadata": {},
   "outputs": [
    {
     "data": {
      "text/html": [
       "<div>\n",
       "<style scoped>\n",
       "    .dataframe tbody tr th:only-of-type {\n",
       "        vertical-align: middle;\n",
       "    }\n",
       "\n",
       "    .dataframe tbody tr th {\n",
       "        vertical-align: top;\n",
       "    }\n",
       "\n",
       "    .dataframe thead th {\n",
       "        text-align: right;\n",
       "    }\n",
       "</style>\n",
       "<table border=\"1\" class=\"dataframe\">\n",
       "  <thead>\n",
       "    <tr style=\"text-align: right;\">\n",
       "      <th></th>\n",
       "      <th>Note: The data and information in this document is reflective of a hypothetical situation and client. This document is to be used for KPMG Virtual Internship purposes only.</th>\n",
       "      <th>Unnamed: 1</th>\n",
       "      <th>Unnamed: 2</th>\n",
       "      <th>Unnamed: 3</th>\n",
       "      <th>Unnamed: 4</th>\n",
       "      <th>Unnamed: 5</th>\n",
       "      <th>Unnamed: 6</th>\n",
       "      <th>Unnamed: 7</th>\n",
       "      <th>Unnamed: 8</th>\n",
       "      <th>Unnamed: 9</th>\n",
       "      <th>...</th>\n",
       "      <th>Unnamed: 16</th>\n",
       "      <th>Unnamed: 17</th>\n",
       "      <th>Unnamed: 18</th>\n",
       "      <th>Unnamed: 19</th>\n",
       "      <th>Unnamed: 20</th>\n",
       "      <th>Unnamed: 21</th>\n",
       "      <th>Unnamed: 22</th>\n",
       "      <th>Unnamed: 23</th>\n",
       "      <th>Unnamed: 24</th>\n",
       "      <th>Unnamed: 25</th>\n",
       "    </tr>\n",
       "  </thead>\n",
       "  <tbody>\n",
       "    <tr>\n",
       "      <th>0</th>\n",
       "      <td>customer_id</td>\n",
       "      <td>first_name</td>\n",
       "      <td>last_name</td>\n",
       "      <td>gender</td>\n",
       "      <td>past_3_years_bike_related_purchases</td>\n",
       "      <td>DOB</td>\n",
       "      <td>job_title</td>\n",
       "      <td>job_industry_category</td>\n",
       "      <td>wealth_segment</td>\n",
       "      <td>deceased_indicator</td>\n",
       "      <td>...</td>\n",
       "      <td>NaN</td>\n",
       "      <td>NaN</td>\n",
       "      <td>NaN</td>\n",
       "      <td>NaN</td>\n",
       "      <td>NaN</td>\n",
       "      <td>NaN</td>\n",
       "      <td>NaN</td>\n",
       "      <td>NaN</td>\n",
       "      <td>NaN</td>\n",
       "      <td>NaN</td>\n",
       "    </tr>\n",
       "    <tr>\n",
       "      <th>1</th>\n",
       "      <td>1</td>\n",
       "      <td>Laraine</td>\n",
       "      <td>Medendorp</td>\n",
       "      <td>F</td>\n",
       "      <td>93</td>\n",
       "      <td>1953-10-12 00:00:00</td>\n",
       "      <td>Executive Secretary</td>\n",
       "      <td>Health</td>\n",
       "      <td>Mass Customer</td>\n",
       "      <td>N</td>\n",
       "      <td>...</td>\n",
       "      <td>NaN</td>\n",
       "      <td>NaN</td>\n",
       "      <td>NaN</td>\n",
       "      <td>NaN</td>\n",
       "      <td>NaN</td>\n",
       "      <td>NaN</td>\n",
       "      <td>NaN</td>\n",
       "      <td>NaN</td>\n",
       "      <td>NaN</td>\n",
       "      <td>NaN</td>\n",
       "    </tr>\n",
       "    <tr>\n",
       "      <th>2</th>\n",
       "      <td>2</td>\n",
       "      <td>Eli</td>\n",
       "      <td>Bockman</td>\n",
       "      <td>Male</td>\n",
       "      <td>81</td>\n",
       "      <td>1980-12-16 00:00:00</td>\n",
       "      <td>Administrative Officer</td>\n",
       "      <td>Financial Services</td>\n",
       "      <td>Mass Customer</td>\n",
       "      <td>N</td>\n",
       "      <td>...</td>\n",
       "      <td>NaN</td>\n",
       "      <td>NaN</td>\n",
       "      <td>NaN</td>\n",
       "      <td>NaN</td>\n",
       "      <td>NaN</td>\n",
       "      <td>NaN</td>\n",
       "      <td>NaN</td>\n",
       "      <td>NaN</td>\n",
       "      <td>NaN</td>\n",
       "      <td>NaN</td>\n",
       "    </tr>\n",
       "    <tr>\n",
       "      <th>3</th>\n",
       "      <td>3</td>\n",
       "      <td>Arlin</td>\n",
       "      <td>Dearle</td>\n",
       "      <td>Male</td>\n",
       "      <td>61</td>\n",
       "      <td>1954-01-20 00:00:00</td>\n",
       "      <td>Recruiting Manager</td>\n",
       "      <td>Property</td>\n",
       "      <td>Mass Customer</td>\n",
       "      <td>N</td>\n",
       "      <td>...</td>\n",
       "      <td>NaN</td>\n",
       "      <td>NaN</td>\n",
       "      <td>NaN</td>\n",
       "      <td>NaN</td>\n",
       "      <td>NaN</td>\n",
       "      <td>NaN</td>\n",
       "      <td>NaN</td>\n",
       "      <td>NaN</td>\n",
       "      <td>NaN</td>\n",
       "      <td>NaN</td>\n",
       "    </tr>\n",
       "    <tr>\n",
       "      <th>4</th>\n",
       "      <td>4</td>\n",
       "      <td>Talbot</td>\n",
       "      <td>NaN</td>\n",
       "      <td>Male</td>\n",
       "      <td>33</td>\n",
       "      <td>1961-10-03 00:00:00</td>\n",
       "      <td>NaN</td>\n",
       "      <td>IT</td>\n",
       "      <td>Mass Customer</td>\n",
       "      <td>N</td>\n",
       "      <td>...</td>\n",
       "      <td>NaN</td>\n",
       "      <td>NaN</td>\n",
       "      <td>NaN</td>\n",
       "      <td>NaN</td>\n",
       "      <td>NaN</td>\n",
       "      <td>NaN</td>\n",
       "      <td>NaN</td>\n",
       "      <td>NaN</td>\n",
       "      <td>NaN</td>\n",
       "      <td>NaN</td>\n",
       "    </tr>\n",
       "  </tbody>\n",
       "</table>\n",
       "<p>5 rows × 26 columns</p>\n",
       "</div>"
      ],
      "text/plain": [
       "  Note: The data and information in this document is reflective of a hypothetical situation and client. This document is to be used for KPMG Virtual Internship purposes only.   \\\n",
       "0                                        customer_id                                                                                                                              \n",
       "1                                                  1                                                                                                                              \n",
       "2                                                  2                                                                                                                              \n",
       "3                                                  3                                                                                                                              \n",
       "4                                                  4                                                                                                                              \n",
       "\n",
       "   Unnamed: 1 Unnamed: 2 Unnamed: 3                           Unnamed: 4  \\\n",
       "0  first_name  last_name     gender  past_3_years_bike_related_purchases   \n",
       "1     Laraine  Medendorp          F                                   93   \n",
       "2         Eli    Bockman       Male                                   81   \n",
       "3       Arlin     Dearle       Male                                   61   \n",
       "4      Talbot        NaN       Male                                   33   \n",
       "\n",
       "            Unnamed: 5              Unnamed: 6             Unnamed: 7  \\\n",
       "0                  DOB               job_title  job_industry_category   \n",
       "1  1953-10-12 00:00:00     Executive Secretary                 Health   \n",
       "2  1980-12-16 00:00:00  Administrative Officer     Financial Services   \n",
       "3  1954-01-20 00:00:00      Recruiting Manager               Property   \n",
       "4  1961-10-03 00:00:00                     NaN                     IT   \n",
       "\n",
       "       Unnamed: 8          Unnamed: 9  ... Unnamed: 16 Unnamed: 17  \\\n",
       "0  wealth_segment  deceased_indicator  ...         NaN         NaN   \n",
       "1   Mass Customer                   N  ...         NaN         NaN   \n",
       "2   Mass Customer                   N  ...         NaN         NaN   \n",
       "3   Mass Customer                   N  ...         NaN         NaN   \n",
       "4   Mass Customer                   N  ...         NaN         NaN   \n",
       "\n",
       "  Unnamed: 18  Unnamed: 19  Unnamed: 20  Unnamed: 21  Unnamed: 22  \\\n",
       "0         NaN          NaN          NaN          NaN          NaN   \n",
       "1         NaN          NaN          NaN          NaN          NaN   \n",
       "2         NaN          NaN          NaN          NaN          NaN   \n",
       "3         NaN          NaN          NaN          NaN          NaN   \n",
       "4         NaN          NaN          NaN          NaN          NaN   \n",
       "\n",
       "   Unnamed: 23  Unnamed: 24  Unnamed: 25  \n",
       "0          NaN          NaN          NaN  \n",
       "1          NaN          NaN          NaN  \n",
       "2          NaN          NaN          NaN  \n",
       "3          NaN          NaN          NaN  \n",
       "4          NaN          NaN          NaN  \n",
       "\n",
       "[5 rows x 26 columns]"
      ]
     },
     "execution_count": 51,
     "metadata": {},
     "output_type": "execute_result"
    }
   ],
   "source": [
    "CustomerDemographic.head()\n"
   ]
  },
  {
   "cell_type": "code",
   "execution_count": 52,
   "id": "2a9a699d",
   "metadata": {},
   "outputs": [
    {
     "name": "stdout",
     "output_type": "stream",
     "text": [
      "<class 'pandas.core.frame.DataFrame'>\n",
      "RangeIndex: 4001 entries, 0 to 4000\n",
      "Data columns (total 26 columns):\n",
      " #   Column                                                                                                                                                                         Non-Null Count  Dtype  \n",
      "---  ------                                                                                                                                                                         --------------  -----  \n",
      " 0   Note: The data and information in this document is reflective of a hypothetical situation and client. This document is to be used for KPMG Virtual Internship purposes only.   4001 non-null   object \n",
      " 1   Unnamed: 1                                                                                                                                                                     4001 non-null   object \n",
      " 2   Unnamed: 2                                                                                                                                                                     3876 non-null   object \n",
      " 3   Unnamed: 3                                                                                                                                                                     4001 non-null   object \n",
      " 4   Unnamed: 4                                                                                                                                                                     4001 non-null   object \n",
      " 5   Unnamed: 5                                                                                                                                                                     3914 non-null   object \n",
      " 6   Unnamed: 6                                                                                                                                                                     3495 non-null   object \n",
      " 7   Unnamed: 7                                                                                                                                                                     3345 non-null   object \n",
      " 8   Unnamed: 8                                                                                                                                                                     4001 non-null   object \n",
      " 9   Unnamed: 9                                                                                                                                                                     4001 non-null   object \n",
      " 10  Unnamed: 10                                                                                                                                                                    3699 non-null   object \n",
      " 11  Unnamed: 11                                                                                                                                                                    4001 non-null   object \n",
      " 12  Unnamed: 12                                                                                                                                                                    3914 non-null   object \n",
      " 13  Unnamed: 13                                                                                                                                                                    0 non-null      float64\n",
      " 14  Unnamed: 14                                                                                                                                                                    0 non-null      float64\n",
      " 15  Unnamed: 15                                                                                                                                                                    0 non-null      float64\n",
      " 16  Unnamed: 16                                                                                                                                                                    0 non-null      float64\n",
      " 17  Unnamed: 17                                                                                                                                                                    0 non-null      float64\n",
      " 18  Unnamed: 18                                                                                                                                                                    0 non-null      float64\n",
      " 19  Unnamed: 19                                                                                                                                                                    0 non-null      float64\n",
      " 20  Unnamed: 20                                                                                                                                                                    0 non-null      float64\n",
      " 21  Unnamed: 21                                                                                                                                                                    0 non-null      float64\n",
      " 22  Unnamed: 22                                                                                                                                                                    0 non-null      float64\n",
      " 23  Unnamed: 23                                                                                                                                                                    0 non-null      float64\n",
      " 24  Unnamed: 24                                                                                                                                                                    0 non-null      float64\n",
      " 25  Unnamed: 25                                                                                                                                                                    0 non-null      float64\n",
      "dtypes: float64(13), object(13)\n",
      "memory usage: 812.8+ KB\n"
     ]
    }
   ],
   "source": [
    "CustomerDemographic.info()\n"
   ]
  },
  {
   "cell_type": "code",
   "execution_count": 53,
   "id": "16aa077c",
   "metadata": {},
   "outputs": [
    {
     "data": {
      "text/plain": [
       "Note: The data and information in this document is reflective of a hypothetical situation and client. This document is to be used for KPMG Virtual Internship purposes only.        0\n",
       "Unnamed: 1                                                                                                                                                                          0\n",
       "Unnamed: 2                                                                                                                                                                        125\n",
       "Unnamed: 3                                                                                                                                                                          0\n",
       "Unnamed: 4                                                                                                                                                                          0\n",
       "Unnamed: 5                                                                                                                                                                         87\n",
       "Unnamed: 6                                                                                                                                                                        506\n",
       "Unnamed: 7                                                                                                                                                                        656\n",
       "Unnamed: 8                                                                                                                                                                          0\n",
       "Unnamed: 9                                                                                                                                                                          0\n",
       "Unnamed: 10                                                                                                                                                                       302\n",
       "Unnamed: 11                                                                                                                                                                         0\n",
       "Unnamed: 12                                                                                                                                                                        87\n",
       "Unnamed: 13                                                                                                                                                                      4001\n",
       "Unnamed: 14                                                                                                                                                                      4001\n",
       "Unnamed: 15                                                                                                                                                                      4001\n",
       "Unnamed: 16                                                                                                                                                                      4001\n",
       "Unnamed: 17                                                                                                                                                                      4001\n",
       "Unnamed: 18                                                                                                                                                                      4001\n",
       "Unnamed: 19                                                                                                                                                                      4001\n",
       "Unnamed: 20                                                                                                                                                                      4001\n",
       "Unnamed: 21                                                                                                                                                                      4001\n",
       "Unnamed: 22                                                                                                                                                                      4001\n",
       "Unnamed: 23                                                                                                                                                                      4001\n",
       "Unnamed: 24                                                                                                                                                                      4001\n",
       "Unnamed: 25                                                                                                                                                                      4001\n",
       "dtype: int64"
      ]
     },
     "execution_count": 53,
     "metadata": {},
     "output_type": "execute_result"
    }
   ],
   "source": [
    "#Checking for null values\n",
    "CustomerDemographic.isnull().sum()"
   ]
  },
  {
   "cell_type": "markdown",
   "id": "1859d618",
   "metadata": {},
   "source": [
    "There are missing values in 7 columns. They can be dropped or treated according to the nature of analysis\n"
   ]
  },
  {
   "cell_type": "code",
   "execution_count": 54,
   "id": "07156dbc",
   "metadata": {},
   "outputs": [
    {
     "data": {
      "text/plain": [
       "0"
      ]
     },
     "execution_count": 54,
     "metadata": {},
     "output_type": "execute_result"
    }
   ],
   "source": [
    "#Checking for duplicate data\n",
    "CustomerDemographic.duplicated().sum()"
   ]
  },
  {
   "cell_type": "markdown",
   "id": "bd7f25a1",
   "metadata": {},
   "source": [
    "There are no duplicate values "
   ]
  },
  {
   "cell_type": "code",
   "execution_count": 56,
   "id": "ba890fac",
   "metadata": {},
   "outputs": [
    {
     "data": {
      "text/plain": [
       "Index(['Note: The data and information in this document is reflective of a hypothetical situation and client. This document is to be used for KPMG Virtual Internship purposes only. ',\n",
       "       'Unnamed: 1', 'Unnamed: 2', 'Unnamed: 3', 'Unnamed: 4', 'Unnamed: 5',\n",
       "       'Unnamed: 6', 'Unnamed: 7', 'Unnamed: 8', 'Unnamed: 9', 'Unnamed: 10',\n",
       "       'Unnamed: 11', 'Unnamed: 12', 'Unnamed: 13', 'Unnamed: 14',\n",
       "       'Unnamed: 15', 'Unnamed: 16', 'Unnamed: 17', 'Unnamed: 18',\n",
       "       'Unnamed: 19', 'Unnamed: 20', 'Unnamed: 21', 'Unnamed: 22',\n",
       "       'Unnamed: 23', 'Unnamed: 24', 'Unnamed: 25'],\n",
       "      dtype='object')"
      ]
     },
     "execution_count": 56,
     "metadata": {},
     "output_type": "execute_result"
    }
   ],
   "source": [
    "CustomerDemographic.columns"
   ]
  },
  {
   "cell_type": "code",
   "execution_count": 57,
   "id": "c391397c",
   "metadata": {},
   "outputs": [
    {
     "data": {
      "text/plain": [
       "Note: The data and information in this document is reflective of a hypothetical situation and client. This document is to be used for KPMG Virtual Internship purposes only.     4001\n",
       "Unnamed: 1                                                                                                                                                                       3140\n",
       "Unnamed: 2                                                                                                                                                                       3726\n",
       "Unnamed: 3                                                                                                                                                                          7\n",
       "Unnamed: 4                                                                                                                                                                        101\n",
       "Unnamed: 5                                                                                                                                                                       3449\n",
       "Unnamed: 6                                                                                                                                                                        196\n",
       "Unnamed: 7                                                                                                                                                                         10\n",
       "Unnamed: 8                                                                                                                                                                          4\n",
       "Unnamed: 9                                                                                                                                                                          3\n",
       "Unnamed: 10                                                                                                                                                                        91\n",
       "Unnamed: 11                                                                                                                                                                         3\n",
       "Unnamed: 12                                                                                                                                                                        23\n",
       "Unnamed: 13                                                                                                                                                                         0\n",
       "Unnamed: 14                                                                                                                                                                         0\n",
       "Unnamed: 15                                                                                                                                                                         0\n",
       "Unnamed: 16                                                                                                                                                                         0\n",
       "Unnamed: 17                                                                                                                                                                         0\n",
       "Unnamed: 18                                                                                                                                                                         0\n",
       "Unnamed: 19                                                                                                                                                                         0\n",
       "Unnamed: 20                                                                                                                                                                         0\n",
       "Unnamed: 21                                                                                                                                                                         0\n",
       "Unnamed: 22                                                                                                                                                                         0\n",
       "Unnamed: 23                                                                                                                                                                         0\n",
       "Unnamed: 24                                                                                                                                                                         0\n",
       "Unnamed: 25                                                                                                                                                                         0\n",
       "dtype: int64"
      ]
     },
     "execution_count": 57,
     "metadata": {},
     "output_type": "execute_result"
    }
   ],
   "source": [
    "#Checking for uniqueness of each column\n",
    "CustomerDemographic.nunique()"
   ]
  },
  {
   "cell_type": "code",
   "execution_count": 58,
   "id": "4e16be83",
   "metadata": {},
   "outputs": [
    {
     "data": {
      "text/plain": [
       "Tobe      5\n",
       "Max       5\n",
       "Timmie    5\n",
       "Kippy     4\n",
       "Kim       4\n",
       "         ..\n",
       "Vivien    1\n",
       "Lilli     1\n",
       "Myles     1\n",
       "Reeva     1\n",
       "Easter    1\n",
       "Name: Unnamed: 1, Length: 3140, dtype: int64"
      ]
     },
     "execution_count": 58,
     "metadata": {},
     "output_type": "execute_result"
    }
   ],
   "source": [
    "CustomerDemographic['Unnamed: 1'].value_counts()\n"
   ]
  },
  {
   "cell_type": "code",
   "execution_count": 59,
   "id": "d3efe68d",
   "metadata": {},
   "outputs": [
    {
     "data": {
      "text/plain": [
       "Pristnor    3\n",
       "Ramsdell    3\n",
       "Lamming     2\n",
       "Cator       2\n",
       "Dahlman     2\n",
       "           ..\n",
       "Melonby     1\n",
       "Peasey      1\n",
       "Halfhyde    1\n",
       "Kegley      1\n",
       "Roseman     1\n",
       "Name: Unnamed: 2, Length: 3726, dtype: int64"
      ]
     },
     "execution_count": 59,
     "metadata": {},
     "output_type": "execute_result"
    }
   ],
   "source": [
    "CustomerDemographic['Unnamed: 2'].value_counts()\n"
   ]
  },
  {
   "cell_type": "code",
   "execution_count": 60,
   "id": "82ae9d32",
   "metadata": {},
   "outputs": [
    {
     "data": {
      "text/plain": [
       "Female    2037\n",
       "Male      1872\n",
       "U           88\n",
       "Femal        1\n",
       "gender       1\n",
       "M            1\n",
       "F            1\n",
       "Name: Unnamed: 3, dtype: int64"
      ]
     },
     "execution_count": 60,
     "metadata": {},
     "output_type": "execute_result"
    }
   ],
   "source": [
    "CustomerDemographic['Unnamed: 3'].value_counts()\n"
   ]
  },
  {
   "cell_type": "markdown",
   "id": "d2ac8178",
   "metadata": {},
   "source": [
    "Certain categories are not correctly titled. The names in these categories are re-named.\n"
   ]
  },
  {
   "cell_type": "code",
   "execution_count": 61,
   "id": "910ed9f0",
   "metadata": {},
   "outputs": [],
   "source": [
    "#Re-naming the categories\n",
    "CustomerDemographic['Unnamed: 3'] = CustomerDemographic['Unnamed: 3'].replace('F','Female').replace('M','Male').replace('Femal','Female').replace('U','Unspecified')\n"
   ]
  },
  {
   "cell_type": "code",
   "execution_count": 62,
   "id": "1c57ec33",
   "metadata": {},
   "outputs": [
    {
     "data": {
      "text/plain": [
       "Female         2039\n",
       "Male           1873\n",
       "Unspecified      88\n",
       "gender            1\n",
       "Name: Unnamed: 3, dtype: int64"
      ]
     },
     "execution_count": 62,
     "metadata": {},
     "output_type": "execute_result"
    }
   ],
   "source": [
    "CustomerDemographic['Unnamed: 3'].value_counts()\n"
   ]
  },
  {
   "cell_type": "code",
   "execution_count": 63,
   "id": "f0a5455c",
   "metadata": {},
   "outputs": [
    {
     "data": {
      "text/plain": [
       "19                                     56\n",
       "16                                     56\n",
       "67                                     54\n",
       "20                                     54\n",
       "2                                      50\n",
       "                                       ..\n",
       "85                                     27\n",
       "95                                     27\n",
       "86                                     27\n",
       "92                                     24\n",
       "past_3_years_bike_related_purchases     1\n",
       "Name: Unnamed: 4, Length: 101, dtype: int64"
      ]
     },
     "execution_count": 63,
     "metadata": {},
     "output_type": "execute_result"
    }
   ],
   "source": [
    "CustomerDemographic['Unnamed: 4'].value_counts()\n"
   ]
  },
  {
   "cell_type": "code",
   "execution_count": 64,
   "id": "c3ae6853",
   "metadata": {},
   "outputs": [
    {
     "data": {
      "text/plain": [
       "1978-01-30    7\n",
       "1978-08-19    4\n",
       "1964-07-08    4\n",
       "1962-12-17    4\n",
       "1976-09-25    4\n",
       "             ..\n",
       "1958-06-23    1\n",
       "1984-03-25    1\n",
       "1976-10-24    1\n",
       "1960-04-25    1\n",
       "1976-04-29    1\n",
       "Name: Unnamed: 5, Length: 3449, dtype: int64"
      ]
     },
     "execution_count": 64,
     "metadata": {},
     "output_type": "execute_result"
    }
   ],
   "source": [
    "CustomerDemographic['Unnamed: 5'].value_counts()\n"
   ]
  },
  {
   "cell_type": "code",
   "execution_count": 65,
   "id": "b2b5bc95",
   "metadata": {},
   "outputs": [
    {
     "data": {
      "text/plain": [
       "Business Systems Development Analyst    45\n",
       "Social Worker                           44\n",
       "Tax Accountant                          44\n",
       "Internal Auditor                        42\n",
       "Legal Assistant                         41\n",
       "                                        ..\n",
       "Health Coach I                           3\n",
       "Health Coach III                         3\n",
       "Research Assistant III                   3\n",
       "Developer I                              1\n",
       "job_title                                1\n",
       "Name: Unnamed: 6, Length: 196, dtype: int64"
      ]
     },
     "execution_count": 65,
     "metadata": {},
     "output_type": "execute_result"
    }
   ],
   "source": [
    "CustomerDemographic['Unnamed: 6'].value_counts()\n"
   ]
  },
  {
   "cell_type": "code",
   "execution_count": 66,
   "id": "4942585e",
   "metadata": {},
   "outputs": [
    {
     "data": {
      "text/plain": [
       "Manufacturing            799\n",
       "Financial Services       774\n",
       "Health                   602\n",
       "Retail                   358\n",
       "Property                 267\n",
       "IT                       223\n",
       "Entertainment            136\n",
       "Argiculture              113\n",
       "Telecommunications        72\n",
       "job_industry_category      1\n",
       "Name: Unnamed: 7, dtype: int64"
      ]
     },
     "execution_count": 66,
     "metadata": {},
     "output_type": "execute_result"
    }
   ],
   "source": [
    "CustomerDemographic['Unnamed: 7'].value_counts()\n"
   ]
  },
  {
   "cell_type": "code",
   "execution_count": 67,
   "id": "b5f6d5da",
   "metadata": {},
   "outputs": [
    {
     "data": {
      "text/plain": [
       "Mass Customer        2000\n",
       "High Net Worth       1021\n",
       "Affluent Customer     979\n",
       "wealth_segment          1\n",
       "Name: Unnamed: 8, dtype: int64"
      ]
     },
     "execution_count": 67,
     "metadata": {},
     "output_type": "execute_result"
    }
   ],
   "source": [
    "CustomerDemographic['Unnamed: 8'].value_counts()\n"
   ]
  },
  {
   "cell_type": "code",
   "execution_count": 68,
   "id": "95556376",
   "metadata": {},
   "outputs": [
    {
     "data": {
      "text/plain": [
       "N                     3998\n",
       "Y                        2\n",
       "deceased_indicator       1\n",
       "Name: Unnamed: 9, dtype: int64"
      ]
     },
     "execution_count": 68,
     "metadata": {},
     "output_type": "execute_result"
    }
   ],
   "source": [
    "CustomerDemographic['Unnamed: 9'].value_counts()\n"
   ]
  },
  {
   "cell_type": "code",
   "execution_count": 69,
   "id": "51897c98",
   "metadata": {},
   "outputs": [
    {
     "data": {
      "text/plain": [
       "100                                       113\n",
       "1                                         112\n",
       "-1                                        111\n",
       "-100                                       99\n",
       "â°â´âµâââ                                  53\n",
       "                                         ... \n",
       "/dev/null; touch /tmp/blns.fail ; echo     30\n",
       "âªâªtestâª                                 29\n",
       "ì¸ëë°í ë¥´                                 27\n",
       ",ãã»:*:ã»ãâ( â» Ï â» )ãã»:*:ã»ãâ           25\n",
       "default                                     1\n",
       "Name: Unnamed: 10, Length: 91, dtype: int64"
      ]
     },
     "execution_count": 69,
     "metadata": {},
     "output_type": "execute_result"
    }
   ],
   "source": [
    "CustomerDemographic['Unnamed: 10'].value_counts()\n"
   ]
  },
  {
   "cell_type": "code",
   "execution_count": 70,
   "id": "d3a12271",
   "metadata": {},
   "outputs": [],
   "source": [
    "CustomerDemographic = CustomerDemographic.drop('Unnamed: 10', axis=1)\n"
   ]
  },
  {
   "cell_type": "markdown",
   "id": "b0292c05",
   "metadata": {},
   "source": [
    "The values are inconsistent therefore dropping the column"
   ]
  },
  {
   "cell_type": "code",
   "execution_count": 71,
   "id": "4a52e797",
   "metadata": {},
   "outputs": [
    {
     "data": {
      "text/html": [
       "<div>\n",
       "<style scoped>\n",
       "    .dataframe tbody tr th:only-of-type {\n",
       "        vertical-align: middle;\n",
       "    }\n",
       "\n",
       "    .dataframe tbody tr th {\n",
       "        vertical-align: top;\n",
       "    }\n",
       "\n",
       "    .dataframe thead th {\n",
       "        text-align: right;\n",
       "    }\n",
       "</style>\n",
       "<table border=\"1\" class=\"dataframe\">\n",
       "  <thead>\n",
       "    <tr style=\"text-align: right;\">\n",
       "      <th></th>\n",
       "      <th>Note: The data and information in this document is reflective of a hypothetical situation and client. This document is to be used for KPMG Virtual Internship purposes only.</th>\n",
       "      <th>Unnamed: 1</th>\n",
       "      <th>Unnamed: 2</th>\n",
       "      <th>Unnamed: 3</th>\n",
       "      <th>Unnamed: 4</th>\n",
       "      <th>Unnamed: 5</th>\n",
       "      <th>Unnamed: 6</th>\n",
       "      <th>Unnamed: 7</th>\n",
       "      <th>Unnamed: 8</th>\n",
       "      <th>Unnamed: 9</th>\n",
       "      <th>...</th>\n",
       "      <th>Unnamed: 16</th>\n",
       "      <th>Unnamed: 17</th>\n",
       "      <th>Unnamed: 18</th>\n",
       "      <th>Unnamed: 19</th>\n",
       "      <th>Unnamed: 20</th>\n",
       "      <th>Unnamed: 21</th>\n",
       "      <th>Unnamed: 22</th>\n",
       "      <th>Unnamed: 23</th>\n",
       "      <th>Unnamed: 24</th>\n",
       "      <th>Unnamed: 25</th>\n",
       "    </tr>\n",
       "  </thead>\n",
       "  <tbody>\n",
       "    <tr>\n",
       "      <th>0</th>\n",
       "      <td>customer_id</td>\n",
       "      <td>first_name</td>\n",
       "      <td>last_name</td>\n",
       "      <td>gender</td>\n",
       "      <td>past_3_years_bike_related_purchases</td>\n",
       "      <td>DOB</td>\n",
       "      <td>job_title</td>\n",
       "      <td>job_industry_category</td>\n",
       "      <td>wealth_segment</td>\n",
       "      <td>deceased_indicator</td>\n",
       "      <td>...</td>\n",
       "      <td>NaN</td>\n",
       "      <td>NaN</td>\n",
       "      <td>NaN</td>\n",
       "      <td>NaN</td>\n",
       "      <td>NaN</td>\n",
       "      <td>NaN</td>\n",
       "      <td>NaN</td>\n",
       "      <td>NaN</td>\n",
       "      <td>NaN</td>\n",
       "      <td>NaN</td>\n",
       "    </tr>\n",
       "    <tr>\n",
       "      <th>1</th>\n",
       "      <td>1</td>\n",
       "      <td>Laraine</td>\n",
       "      <td>Medendorp</td>\n",
       "      <td>Female</td>\n",
       "      <td>93</td>\n",
       "      <td>1953-10-12 00:00:00</td>\n",
       "      <td>Executive Secretary</td>\n",
       "      <td>Health</td>\n",
       "      <td>Mass Customer</td>\n",
       "      <td>N</td>\n",
       "      <td>...</td>\n",
       "      <td>NaN</td>\n",
       "      <td>NaN</td>\n",
       "      <td>NaN</td>\n",
       "      <td>NaN</td>\n",
       "      <td>NaN</td>\n",
       "      <td>NaN</td>\n",
       "      <td>NaN</td>\n",
       "      <td>NaN</td>\n",
       "      <td>NaN</td>\n",
       "      <td>NaN</td>\n",
       "    </tr>\n",
       "    <tr>\n",
       "      <th>2</th>\n",
       "      <td>2</td>\n",
       "      <td>Eli</td>\n",
       "      <td>Bockman</td>\n",
       "      <td>Male</td>\n",
       "      <td>81</td>\n",
       "      <td>1980-12-16 00:00:00</td>\n",
       "      <td>Administrative Officer</td>\n",
       "      <td>Financial Services</td>\n",
       "      <td>Mass Customer</td>\n",
       "      <td>N</td>\n",
       "      <td>...</td>\n",
       "      <td>NaN</td>\n",
       "      <td>NaN</td>\n",
       "      <td>NaN</td>\n",
       "      <td>NaN</td>\n",
       "      <td>NaN</td>\n",
       "      <td>NaN</td>\n",
       "      <td>NaN</td>\n",
       "      <td>NaN</td>\n",
       "      <td>NaN</td>\n",
       "      <td>NaN</td>\n",
       "    </tr>\n",
       "    <tr>\n",
       "      <th>3</th>\n",
       "      <td>3</td>\n",
       "      <td>Arlin</td>\n",
       "      <td>Dearle</td>\n",
       "      <td>Male</td>\n",
       "      <td>61</td>\n",
       "      <td>1954-01-20 00:00:00</td>\n",
       "      <td>Recruiting Manager</td>\n",
       "      <td>Property</td>\n",
       "      <td>Mass Customer</td>\n",
       "      <td>N</td>\n",
       "      <td>...</td>\n",
       "      <td>NaN</td>\n",
       "      <td>NaN</td>\n",
       "      <td>NaN</td>\n",
       "      <td>NaN</td>\n",
       "      <td>NaN</td>\n",
       "      <td>NaN</td>\n",
       "      <td>NaN</td>\n",
       "      <td>NaN</td>\n",
       "      <td>NaN</td>\n",
       "      <td>NaN</td>\n",
       "    </tr>\n",
       "    <tr>\n",
       "      <th>4</th>\n",
       "      <td>4</td>\n",
       "      <td>Talbot</td>\n",
       "      <td>NaN</td>\n",
       "      <td>Male</td>\n",
       "      <td>33</td>\n",
       "      <td>1961-10-03 00:00:00</td>\n",
       "      <td>NaN</td>\n",
       "      <td>IT</td>\n",
       "      <td>Mass Customer</td>\n",
       "      <td>N</td>\n",
       "      <td>...</td>\n",
       "      <td>NaN</td>\n",
       "      <td>NaN</td>\n",
       "      <td>NaN</td>\n",
       "      <td>NaN</td>\n",
       "      <td>NaN</td>\n",
       "      <td>NaN</td>\n",
       "      <td>NaN</td>\n",
       "      <td>NaN</td>\n",
       "      <td>NaN</td>\n",
       "      <td>NaN</td>\n",
       "    </tr>\n",
       "  </tbody>\n",
       "</table>\n",
       "<p>5 rows × 25 columns</p>\n",
       "</div>"
      ],
      "text/plain": [
       "  Note: The data and information in this document is reflective of a hypothetical situation and client. This document is to be used for KPMG Virtual Internship purposes only.   \\\n",
       "0                                        customer_id                                                                                                                              \n",
       "1                                                  1                                                                                                                              \n",
       "2                                                  2                                                                                                                              \n",
       "3                                                  3                                                                                                                              \n",
       "4                                                  4                                                                                                                              \n",
       "\n",
       "   Unnamed: 1 Unnamed: 2 Unnamed: 3                           Unnamed: 4  \\\n",
       "0  first_name  last_name     gender  past_3_years_bike_related_purchases   \n",
       "1     Laraine  Medendorp     Female                                   93   \n",
       "2         Eli    Bockman       Male                                   81   \n",
       "3       Arlin     Dearle       Male                                   61   \n",
       "4      Talbot        NaN       Male                                   33   \n",
       "\n",
       "            Unnamed: 5              Unnamed: 6             Unnamed: 7  \\\n",
       "0                  DOB               job_title  job_industry_category   \n",
       "1  1953-10-12 00:00:00     Executive Secretary                 Health   \n",
       "2  1980-12-16 00:00:00  Administrative Officer     Financial Services   \n",
       "3  1954-01-20 00:00:00      Recruiting Manager               Property   \n",
       "4  1961-10-03 00:00:00                     NaN                     IT   \n",
       "\n",
       "       Unnamed: 8          Unnamed: 9  ... Unnamed: 16 Unnamed: 17  \\\n",
       "0  wealth_segment  deceased_indicator  ...         NaN         NaN   \n",
       "1   Mass Customer                   N  ...         NaN         NaN   \n",
       "2   Mass Customer                   N  ...         NaN         NaN   \n",
       "3   Mass Customer                   N  ...         NaN         NaN   \n",
       "4   Mass Customer                   N  ...         NaN         NaN   \n",
       "\n",
       "   Unnamed: 18  Unnamed: 19  Unnamed: 20  Unnamed: 21  Unnamed: 22  \\\n",
       "0          NaN          NaN          NaN          NaN          NaN   \n",
       "1          NaN          NaN          NaN          NaN          NaN   \n",
       "2          NaN          NaN          NaN          NaN          NaN   \n",
       "3          NaN          NaN          NaN          NaN          NaN   \n",
       "4          NaN          NaN          NaN          NaN          NaN   \n",
       "\n",
       "   Unnamed: 23  Unnamed: 24  Unnamed: 25  \n",
       "0          NaN          NaN          NaN  \n",
       "1          NaN          NaN          NaN  \n",
       "2          NaN          NaN          NaN  \n",
       "3          NaN          NaN          NaN  \n",
       "4          NaN          NaN          NaN  \n",
       "\n",
       "[5 rows x 25 columns]"
      ]
     },
     "execution_count": 71,
     "metadata": {},
     "output_type": "execute_result"
    }
   ],
   "source": [
    "CustomerDemographic.head(5)\n"
   ]
  },
  {
   "cell_type": "code",
   "execution_count": 72,
   "id": "696dbcf1",
   "metadata": {},
   "outputs": [
    {
     "data": {
      "text/plain": [
       "Yes         2024\n",
       "No          1976\n",
       "owns_car       1\n",
       "Name: Unnamed: 11, dtype: int64"
      ]
     },
     "execution_count": 72,
     "metadata": {},
     "output_type": "execute_result"
    }
   ],
   "source": [
    "CustomerDemographic['Unnamed: 11'].value_counts()\n"
   ]
  },
  {
   "cell_type": "code",
   "execution_count": 73,
   "id": "cc40a1f0",
   "metadata": {},
   "outputs": [
    {
     "data": {
      "text/plain": [
       "7         235\n",
       "5         228\n",
       "11        221\n",
       "10        218\n",
       "16        215\n",
       "8         211\n",
       "18        208\n",
       "12        202\n",
       "9         200\n",
       "14        200\n",
       "6         192\n",
       "4         191\n",
       "13        191\n",
       "17        182\n",
       "15        179\n",
       "1         166\n",
       "3         160\n",
       "19        159\n",
       "2         150\n",
       "20         96\n",
       "22         55\n",
       "21         54\n",
       "tenure      1\n",
       "Name: Unnamed: 12, dtype: int64"
      ]
     },
     "execution_count": 73,
     "metadata": {},
     "output_type": "execute_result"
    }
   ],
   "source": [
    "CustomerDemographic['Unnamed: 12'].value_counts()\n"
   ]
  },
  {
   "cell_type": "code",
   "execution_count": 74,
   "id": "a4ee912a",
   "metadata": {},
   "outputs": [
    {
     "data": {
      "text/plain": [
       "Series([], Name: Unnamed: 13, dtype: int64)"
      ]
     },
     "execution_count": 74,
     "metadata": {},
     "output_type": "execute_result"
    }
   ],
   "source": [
    "CustomerDemographic['Unnamed: 13'].value_counts()\n"
   ]
  },
  {
   "cell_type": "code",
   "execution_count": 75,
   "id": "ebf5895f",
   "metadata": {},
   "outputs": [
    {
     "data": {
      "text/plain": [
       "Series([], Name: Unnamed: 14, dtype: int64)"
      ]
     },
     "execution_count": 75,
     "metadata": {},
     "output_type": "execute_result"
    }
   ],
   "source": [
    "CustomerDemographic['Unnamed: 14'].value_counts()\n"
   ]
  },
  {
   "cell_type": "code",
   "execution_count": 76,
   "id": "6deec5af",
   "metadata": {},
   "outputs": [
    {
     "data": {
      "text/plain": [
       "Series([], Name: Unnamed: 15, dtype: int64)"
      ]
     },
     "execution_count": 76,
     "metadata": {},
     "output_type": "execute_result"
    }
   ],
   "source": [
    "CustomerDemographic['Unnamed: 15'].value_counts()\n"
   ]
  },
  {
   "cell_type": "code",
   "execution_count": 77,
   "id": "5b1d5a53",
   "metadata": {},
   "outputs": [
    {
     "data": {
      "text/plain": [
       "Series([], Name: Unnamed: 16, dtype: int64)"
      ]
     },
     "execution_count": 77,
     "metadata": {},
     "output_type": "execute_result"
    }
   ],
   "source": [
    "CustomerDemographic['Unnamed: 16'].value_counts()\n"
   ]
  },
  {
   "cell_type": "code",
   "execution_count": 78,
   "id": "ae18cbc1",
   "metadata": {},
   "outputs": [
    {
     "data": {
      "text/plain": [
       "Series([], Name: Unnamed: 17, dtype: int64)"
      ]
     },
     "execution_count": 78,
     "metadata": {},
     "output_type": "execute_result"
    }
   ],
   "source": [
    "CustomerDemographic['Unnamed: 17'].value_counts()\n"
   ]
  },
  {
   "cell_type": "code",
   "execution_count": 79,
   "id": "757ea6a3",
   "metadata": {},
   "outputs": [
    {
     "data": {
      "text/plain": [
       "Series([], Name: Unnamed: 18, dtype: int64)"
      ]
     },
     "execution_count": 79,
     "metadata": {},
     "output_type": "execute_result"
    }
   ],
   "source": [
    "CustomerDemographic['Unnamed: 18'].value_counts()\n"
   ]
  },
  {
   "cell_type": "code",
   "execution_count": 80,
   "id": "29e75215",
   "metadata": {},
   "outputs": [
    {
     "data": {
      "text/plain": [
       "Series([], Name: Unnamed: 19, dtype: int64)"
      ]
     },
     "execution_count": 80,
     "metadata": {},
     "output_type": "execute_result"
    }
   ],
   "source": [
    "CustomerDemographic['Unnamed: 19'].value_counts()\n"
   ]
  },
  {
   "cell_type": "code",
   "execution_count": 81,
   "id": "b82830e0",
   "metadata": {},
   "outputs": [
    {
     "data": {
      "text/plain": [
       "Series([], Name: Unnamed: 20, dtype: int64)"
      ]
     },
     "execution_count": 81,
     "metadata": {},
     "output_type": "execute_result"
    }
   ],
   "source": [
    "CustomerDemographic['Unnamed: 20'].value_counts()\n"
   ]
  },
  {
   "cell_type": "code",
   "execution_count": 82,
   "id": "05d588d4",
   "metadata": {},
   "outputs": [
    {
     "data": {
      "text/plain": [
       "Series([], Name: Unnamed: 21, dtype: int64)"
      ]
     },
     "execution_count": 82,
     "metadata": {},
     "output_type": "execute_result"
    }
   ],
   "source": [
    "CustomerDemographic['Unnamed: 21'].value_counts()\n"
   ]
  },
  {
   "cell_type": "code",
   "execution_count": 83,
   "id": "d036f404",
   "metadata": {},
   "outputs": [
    {
     "data": {
      "text/plain": [
       "Series([], Name: Unnamed: 22, dtype: int64)"
      ]
     },
     "execution_count": 83,
     "metadata": {},
     "output_type": "execute_result"
    }
   ],
   "source": [
    "CustomerDemographic['Unnamed: 22'].value_counts()\n"
   ]
  },
  {
   "cell_type": "code",
   "execution_count": 84,
   "id": "dc4ea65b",
   "metadata": {},
   "outputs": [
    {
     "data": {
      "text/plain": [
       "Series([], Name: Unnamed: 23, dtype: int64)"
      ]
     },
     "execution_count": 84,
     "metadata": {},
     "output_type": "execute_result"
    }
   ],
   "source": [
    "CustomerDemographic['Unnamed: 23'].value_counts()\n"
   ]
  },
  {
   "cell_type": "code",
   "execution_count": 85,
   "id": "333b4ef5",
   "metadata": {},
   "outputs": [
    {
     "data": {
      "text/plain": [
       "Series([], Name: Unnamed: 24, dtype: int64)"
      ]
     },
     "execution_count": 85,
     "metadata": {},
     "output_type": "execute_result"
    }
   ],
   "source": [
    "CustomerDemographic['Unnamed: 24'].value_counts()\n"
   ]
  },
  {
   "cell_type": "code",
   "execution_count": 86,
   "id": "41db395a",
   "metadata": {},
   "outputs": [
    {
     "data": {
      "text/plain": [
       "Series([], Name: Unnamed: 25, dtype: int64)"
      ]
     },
     "execution_count": 86,
     "metadata": {},
     "output_type": "execute_result"
    }
   ],
   "source": [
    "CustomerDemographic['Unnamed: 25'].value_counts()\n"
   ]
  },
  {
   "cell_type": "markdown",
   "id": "bf63ecb5",
   "metadata": {},
   "source": [
    "Exploring Customer Address Dataset"
   ]
  },
  {
   "cell_type": "code",
   "execution_count": 87,
   "id": "01b2ed13",
   "metadata": {},
   "outputs": [
    {
     "data": {
      "text/html": [
       "<div>\n",
       "<style scoped>\n",
       "    .dataframe tbody tr th:only-of-type {\n",
       "        vertical-align: middle;\n",
       "    }\n",
       "\n",
       "    .dataframe tbody tr th {\n",
       "        vertical-align: top;\n",
       "    }\n",
       "\n",
       "    .dataframe thead th {\n",
       "        text-align: right;\n",
       "    }\n",
       "</style>\n",
       "<table border=\"1\" class=\"dataframe\">\n",
       "  <thead>\n",
       "    <tr style=\"text-align: right;\">\n",
       "      <th></th>\n",
       "      <th>Note: The data and information in this document is reflective of a hypothetical situation and client. This document is to be used for KPMG Virtual Internship purposes only.</th>\n",
       "      <th>Unnamed: 1</th>\n",
       "      <th>Unnamed: 2</th>\n",
       "      <th>Unnamed: 3</th>\n",
       "      <th>Unnamed: 4</th>\n",
       "      <th>Unnamed: 5</th>\n",
       "      <th>Unnamed: 6</th>\n",
       "      <th>Unnamed: 7</th>\n",
       "      <th>Unnamed: 8</th>\n",
       "      <th>Unnamed: 9</th>\n",
       "      <th>...</th>\n",
       "      <th>Unnamed: 16</th>\n",
       "      <th>Unnamed: 17</th>\n",
       "      <th>Unnamed: 18</th>\n",
       "      <th>Unnamed: 19</th>\n",
       "      <th>Unnamed: 20</th>\n",
       "      <th>Unnamed: 21</th>\n",
       "      <th>Unnamed: 22</th>\n",
       "      <th>Unnamed: 23</th>\n",
       "      <th>Unnamed: 24</th>\n",
       "      <th>Unnamed: 25</th>\n",
       "    </tr>\n",
       "  </thead>\n",
       "  <tbody>\n",
       "    <tr>\n",
       "      <th>0</th>\n",
       "      <td>customer_id</td>\n",
       "      <td>address</td>\n",
       "      <td>postcode</td>\n",
       "      <td>state</td>\n",
       "      <td>country</td>\n",
       "      <td>property_valuation</td>\n",
       "      <td>NaN</td>\n",
       "      <td>NaN</td>\n",
       "      <td>NaN</td>\n",
       "      <td>NaN</td>\n",
       "      <td>...</td>\n",
       "      <td>NaN</td>\n",
       "      <td>NaN</td>\n",
       "      <td>NaN</td>\n",
       "      <td>NaN</td>\n",
       "      <td>NaN</td>\n",
       "      <td>NaN</td>\n",
       "      <td>NaN</td>\n",
       "      <td>NaN</td>\n",
       "      <td>NaN</td>\n",
       "      <td>NaN</td>\n",
       "    </tr>\n",
       "    <tr>\n",
       "      <th>1</th>\n",
       "      <td>1</td>\n",
       "      <td>060 Morning Avenue</td>\n",
       "      <td>2016</td>\n",
       "      <td>New South Wales</td>\n",
       "      <td>Australia</td>\n",
       "      <td>10</td>\n",
       "      <td>NaN</td>\n",
       "      <td>NaN</td>\n",
       "      <td>NaN</td>\n",
       "      <td>NaN</td>\n",
       "      <td>...</td>\n",
       "      <td>NaN</td>\n",
       "      <td>NaN</td>\n",
       "      <td>NaN</td>\n",
       "      <td>NaN</td>\n",
       "      <td>NaN</td>\n",
       "      <td>NaN</td>\n",
       "      <td>NaN</td>\n",
       "      <td>NaN</td>\n",
       "      <td>NaN</td>\n",
       "      <td>NaN</td>\n",
       "    </tr>\n",
       "    <tr>\n",
       "      <th>2</th>\n",
       "      <td>2</td>\n",
       "      <td>6 Meadow Vale Court</td>\n",
       "      <td>2153</td>\n",
       "      <td>New South Wales</td>\n",
       "      <td>Australia</td>\n",
       "      <td>10</td>\n",
       "      <td>NaN</td>\n",
       "      <td>NaN</td>\n",
       "      <td>NaN</td>\n",
       "      <td>NaN</td>\n",
       "      <td>...</td>\n",
       "      <td>NaN</td>\n",
       "      <td>NaN</td>\n",
       "      <td>NaN</td>\n",
       "      <td>NaN</td>\n",
       "      <td>NaN</td>\n",
       "      <td>NaN</td>\n",
       "      <td>NaN</td>\n",
       "      <td>NaN</td>\n",
       "      <td>NaN</td>\n",
       "      <td>NaN</td>\n",
       "    </tr>\n",
       "    <tr>\n",
       "      <th>3</th>\n",
       "      <td>4</td>\n",
       "      <td>0 Holy Cross Court</td>\n",
       "      <td>4211</td>\n",
       "      <td>QLD</td>\n",
       "      <td>Australia</td>\n",
       "      <td>9</td>\n",
       "      <td>NaN</td>\n",
       "      <td>NaN</td>\n",
       "      <td>NaN</td>\n",
       "      <td>NaN</td>\n",
       "      <td>...</td>\n",
       "      <td>NaN</td>\n",
       "      <td>NaN</td>\n",
       "      <td>NaN</td>\n",
       "      <td>NaN</td>\n",
       "      <td>NaN</td>\n",
       "      <td>NaN</td>\n",
       "      <td>NaN</td>\n",
       "      <td>NaN</td>\n",
       "      <td>NaN</td>\n",
       "      <td>NaN</td>\n",
       "    </tr>\n",
       "    <tr>\n",
       "      <th>4</th>\n",
       "      <td>5</td>\n",
       "      <td>17979 Del Mar Point</td>\n",
       "      <td>2448</td>\n",
       "      <td>New South Wales</td>\n",
       "      <td>Australia</td>\n",
       "      <td>4</td>\n",
       "      <td>NaN</td>\n",
       "      <td>NaN</td>\n",
       "      <td>NaN</td>\n",
       "      <td>NaN</td>\n",
       "      <td>...</td>\n",
       "      <td>NaN</td>\n",
       "      <td>NaN</td>\n",
       "      <td>NaN</td>\n",
       "      <td>NaN</td>\n",
       "      <td>NaN</td>\n",
       "      <td>NaN</td>\n",
       "      <td>NaN</td>\n",
       "      <td>NaN</td>\n",
       "      <td>NaN</td>\n",
       "      <td>NaN</td>\n",
       "    </tr>\n",
       "  </tbody>\n",
       "</table>\n",
       "<p>5 rows × 26 columns</p>\n",
       "</div>"
      ],
      "text/plain": [
       "  Note: The data and information in this document is reflective of a hypothetical situation and client. This document is to be used for KPMG Virtual Internship purposes only.   \\\n",
       "0                                        customer_id                                                                                                                              \n",
       "1                                                  1                                                                                                                              \n",
       "2                                                  2                                                                                                                              \n",
       "3                                                  4                                                                                                                              \n",
       "4                                                  5                                                                                                                              \n",
       "\n",
       "            Unnamed: 1 Unnamed: 2       Unnamed: 3 Unnamed: 4  \\\n",
       "0              address   postcode            state    country   \n",
       "1   060 Morning Avenue       2016  New South Wales  Australia   \n",
       "2  6 Meadow Vale Court       2153  New South Wales  Australia   \n",
       "3   0 Holy Cross Court       4211              QLD  Australia   \n",
       "4  17979 Del Mar Point       2448  New South Wales  Australia   \n",
       "\n",
       "           Unnamed: 5  Unnamed: 6  Unnamed: 7  Unnamed: 8  Unnamed: 9  ...  \\\n",
       "0  property_valuation         NaN         NaN         NaN         NaN  ...   \n",
       "1                  10         NaN         NaN         NaN         NaN  ...   \n",
       "2                  10         NaN         NaN         NaN         NaN  ...   \n",
       "3                   9         NaN         NaN         NaN         NaN  ...   \n",
       "4                   4         NaN         NaN         NaN         NaN  ...   \n",
       "\n",
       "   Unnamed: 16  Unnamed: 17  Unnamed: 18  Unnamed: 19  Unnamed: 20  \\\n",
       "0          NaN          NaN          NaN          NaN          NaN   \n",
       "1          NaN          NaN          NaN          NaN          NaN   \n",
       "2          NaN          NaN          NaN          NaN          NaN   \n",
       "3          NaN          NaN          NaN          NaN          NaN   \n",
       "4          NaN          NaN          NaN          NaN          NaN   \n",
       "\n",
       "   Unnamed: 21  Unnamed: 22  Unnamed: 23  Unnamed: 24  Unnamed: 25  \n",
       "0          NaN          NaN          NaN          NaN          NaN  \n",
       "1          NaN          NaN          NaN          NaN          NaN  \n",
       "2          NaN          NaN          NaN          NaN          NaN  \n",
       "3          NaN          NaN          NaN          NaN          NaN  \n",
       "4          NaN          NaN          NaN          NaN          NaN  \n",
       "\n",
       "[5 rows x 26 columns]"
      ]
     },
     "execution_count": 87,
     "metadata": {},
     "output_type": "execute_result"
    }
   ],
   "source": [
    "CustomerAddress.head(5)\n"
   ]
  },
  {
   "cell_type": "code",
   "execution_count": 88,
   "id": "854c1388",
   "metadata": {},
   "outputs": [
    {
     "name": "stdout",
     "output_type": "stream",
     "text": [
      "<class 'pandas.core.frame.DataFrame'>\n",
      "RangeIndex: 4000 entries, 0 to 3999\n",
      "Data columns (total 26 columns):\n",
      " #   Column                                                                                                                                                                         Non-Null Count  Dtype  \n",
      "---  ------                                                                                                                                                                         --------------  -----  \n",
      " 0   Note: The data and information in this document is reflective of a hypothetical situation and client. This document is to be used for KPMG Virtual Internship purposes only.   4000 non-null   object \n",
      " 1   Unnamed: 1                                                                                                                                                                     4000 non-null   object \n",
      " 2   Unnamed: 2                                                                                                                                                                     4000 non-null   object \n",
      " 3   Unnamed: 3                                                                                                                                                                     4000 non-null   object \n",
      " 4   Unnamed: 4                                                                                                                                                                     4000 non-null   object \n",
      " 5   Unnamed: 5                                                                                                                                                                     4000 non-null   object \n",
      " 6   Unnamed: 6                                                                                                                                                                     0 non-null      float64\n",
      " 7   Unnamed: 7                                                                                                                                                                     0 non-null      float64\n",
      " 8   Unnamed: 8                                                                                                                                                                     0 non-null      float64\n",
      " 9   Unnamed: 9                                                                                                                                                                     0 non-null      float64\n",
      " 10  Unnamed: 10                                                                                                                                                                    0 non-null      float64\n",
      " 11  Unnamed: 11                                                                                                                                                                    0 non-null      float64\n",
      " 12  Unnamed: 12                                                                                                                                                                    0 non-null      float64\n",
      " 13  Unnamed: 13                                                                                                                                                                    0 non-null      float64\n",
      " 14  Unnamed: 14                                                                                                                                                                    0 non-null      float64\n",
      " 15  Unnamed: 15                                                                                                                                                                    0 non-null      float64\n",
      " 16  Unnamed: 16                                                                                                                                                                    0 non-null      float64\n",
      " 17  Unnamed: 17                                                                                                                                                                    0 non-null      float64\n",
      " 18  Unnamed: 18                                                                                                                                                                    0 non-null      float64\n",
      " 19  Unnamed: 19                                                                                                                                                                    0 non-null      float64\n",
      " 20  Unnamed: 20                                                                                                                                                                    0 non-null      float64\n",
      " 21  Unnamed: 21                                                                                                                                                                    0 non-null      float64\n",
      " 22  Unnamed: 22                                                                                                                                                                    0 non-null      float64\n",
      " 23  Unnamed: 23                                                                                                                                                                    0 non-null      float64\n",
      " 24  Unnamed: 24                                                                                                                                                                    0 non-null      float64\n",
      " 25  Unnamed: 25                                                                                                                                                                    0 non-null      float64\n",
      "dtypes: float64(20), object(6)\n",
      "memory usage: 812.6+ KB\n"
     ]
    }
   ],
   "source": [
    "CustomerAddress.info()\n"
   ]
  },
  {
   "cell_type": "code",
   "execution_count": 89,
   "id": "8a5bfe98",
   "metadata": {},
   "outputs": [
    {
     "data": {
      "text/plain": [
       "Note: The data and information in this document is reflective of a hypothetical situation and client. This document is to be used for KPMG Virtual Internship purposes only.        0\n",
       "Unnamed: 1                                                                                                                                                                          0\n",
       "Unnamed: 2                                                                                                                                                                          0\n",
       "Unnamed: 3                                                                                                                                                                          0\n",
       "Unnamed: 4                                                                                                                                                                          0\n",
       "Unnamed: 5                                                                                                                                                                          0\n",
       "Unnamed: 6                                                                                                                                                                       4000\n",
       "Unnamed: 7                                                                                                                                                                       4000\n",
       "Unnamed: 8                                                                                                                                                                       4000\n",
       "Unnamed: 9                                                                                                                                                                       4000\n",
       "Unnamed: 10                                                                                                                                                                      4000\n",
       "Unnamed: 11                                                                                                                                                                      4000\n",
       "Unnamed: 12                                                                                                                                                                      4000\n",
       "Unnamed: 13                                                                                                                                                                      4000\n",
       "Unnamed: 14                                                                                                                                                                      4000\n",
       "Unnamed: 15                                                                                                                                                                      4000\n",
       "Unnamed: 16                                                                                                                                                                      4000\n",
       "Unnamed: 17                                                                                                                                                                      4000\n",
       "Unnamed: 18                                                                                                                                                                      4000\n",
       "Unnamed: 19                                                                                                                                                                      4000\n",
       "Unnamed: 20                                                                                                                                                                      4000\n",
       "Unnamed: 21                                                                                                                                                                      4000\n",
       "Unnamed: 22                                                                                                                                                                      4000\n",
       "Unnamed: 23                                                                                                                                                                      4000\n",
       "Unnamed: 24                                                                                                                                                                      4000\n",
       "Unnamed: 25                                                                                                                                                                      4000\n",
       "dtype: int64"
      ]
     },
     "execution_count": 89,
     "metadata": {},
     "output_type": "execute_result"
    }
   ],
   "source": [
    "#Checking for null values.\n",
    "CustomerAddress.isnull().sum()"
   ]
  },
  {
   "cell_type": "code",
   "execution_count": 90,
   "id": "2b1dea8f",
   "metadata": {},
   "outputs": [],
   "source": [
    "CustomerAddressN = CustomerAddress.dropna()"
   ]
  },
  {
   "cell_type": "code",
   "execution_count": 91,
   "id": "0cafb55f",
   "metadata": {},
   "outputs": [
    {
     "data": {
      "text/html": [
       "<div>\n",
       "<style scoped>\n",
       "    .dataframe tbody tr th:only-of-type {\n",
       "        vertical-align: middle;\n",
       "    }\n",
       "\n",
       "    .dataframe tbody tr th {\n",
       "        vertical-align: top;\n",
       "    }\n",
       "\n",
       "    .dataframe thead th {\n",
       "        text-align: right;\n",
       "    }\n",
       "</style>\n",
       "<table border=\"1\" class=\"dataframe\">\n",
       "  <thead>\n",
       "    <tr style=\"text-align: right;\">\n",
       "      <th></th>\n",
       "      <th>Note: The data and information in this document is reflective of a hypothetical situation and client. This document is to be used for KPMG Virtual Internship purposes only.</th>\n",
       "      <th>Unnamed: 1</th>\n",
       "      <th>Unnamed: 2</th>\n",
       "      <th>Unnamed: 3</th>\n",
       "      <th>Unnamed: 4</th>\n",
       "      <th>Unnamed: 5</th>\n",
       "      <th>Unnamed: 6</th>\n",
       "      <th>Unnamed: 7</th>\n",
       "      <th>Unnamed: 8</th>\n",
       "      <th>Unnamed: 9</th>\n",
       "      <th>...</th>\n",
       "      <th>Unnamed: 16</th>\n",
       "      <th>Unnamed: 17</th>\n",
       "      <th>Unnamed: 18</th>\n",
       "      <th>Unnamed: 19</th>\n",
       "      <th>Unnamed: 20</th>\n",
       "      <th>Unnamed: 21</th>\n",
       "      <th>Unnamed: 22</th>\n",
       "      <th>Unnamed: 23</th>\n",
       "      <th>Unnamed: 24</th>\n",
       "      <th>Unnamed: 25</th>\n",
       "    </tr>\n",
       "  </thead>\n",
       "  <tbody>\n",
       "  </tbody>\n",
       "</table>\n",
       "<p>0 rows × 26 columns</p>\n",
       "</div>"
      ],
      "text/plain": [
       "Empty DataFrame\n",
       "Columns: [Note: The data and information in this document is reflective of a hypothetical situation and client. This document is to be used for KPMG Virtual Internship purposes only. , Unnamed: 1, Unnamed: 2, Unnamed: 3, Unnamed: 4, Unnamed: 5, Unnamed: 6, Unnamed: 7, Unnamed: 8, Unnamed: 9, Unnamed: 10, Unnamed: 11, Unnamed: 12, Unnamed: 13, Unnamed: 14, Unnamed: 15, Unnamed: 16, Unnamed: 17, Unnamed: 18, Unnamed: 19, Unnamed: 20, Unnamed: 21, Unnamed: 22, Unnamed: 23, Unnamed: 24, Unnamed: 25]\n",
       "Index: []\n",
       "\n",
       "[0 rows x 26 columns]"
      ]
     },
     "execution_count": 91,
     "metadata": {},
     "output_type": "execute_result"
    }
   ],
   "source": [
    "CustomerAddressN.head()"
   ]
  },
  {
   "cell_type": "code",
   "execution_count": 92,
   "id": "6e6d3e5b",
   "metadata": {},
   "outputs": [
    {
     "data": {
      "text/plain": [
       "Note: The data and information in this document is reflective of a hypothetical situation and client. This document is to be used for KPMG Virtual Internship purposes only.     0.0\n",
       "Unnamed: 1                                                                                                                                                                       0.0\n",
       "Unnamed: 2                                                                                                                                                                       0.0\n",
       "Unnamed: 3                                                                                                                                                                       0.0\n",
       "Unnamed: 4                                                                                                                                                                       0.0\n",
       "Unnamed: 5                                                                                                                                                                       0.0\n",
       "Unnamed: 6                                                                                                                                                                       0.0\n",
       "Unnamed: 7                                                                                                                                                                       0.0\n",
       "Unnamed: 8                                                                                                                                                                       0.0\n",
       "Unnamed: 9                                                                                                                                                                       0.0\n",
       "Unnamed: 10                                                                                                                                                                      0.0\n",
       "Unnamed: 11                                                                                                                                                                      0.0\n",
       "Unnamed: 12                                                                                                                                                                      0.0\n",
       "Unnamed: 13                                                                                                                                                                      0.0\n",
       "Unnamed: 14                                                                                                                                                                      0.0\n",
       "Unnamed: 15                                                                                                                                                                      0.0\n",
       "Unnamed: 16                                                                                                                                                                      0.0\n",
       "Unnamed: 17                                                                                                                                                                      0.0\n",
       "Unnamed: 18                                                                                                                                                                      0.0\n",
       "Unnamed: 19                                                                                                                                                                      0.0\n",
       "Unnamed: 20                                                                                                                                                                      0.0\n",
       "Unnamed: 21                                                                                                                                                                      0.0\n",
       "Unnamed: 22                                                                                                                                                                      0.0\n",
       "Unnamed: 23                                                                                                                                                                      0.0\n",
       "Unnamed: 24                                                                                                                                                                      0.0\n",
       "Unnamed: 25                                                                                                                                                                      0.0\n",
       "dtype: float64"
      ]
     },
     "execution_count": 92,
     "metadata": {},
     "output_type": "execute_result"
    }
   ],
   "source": [
    "#Checking for null values.\n",
    "CustomerAddressN.isnull().sum()"
   ]
  },
  {
   "cell_type": "markdown",
   "id": "d6e56b53",
   "metadata": {},
   "source": [
    "There are no null values"
   ]
  },
  {
   "cell_type": "code",
   "execution_count": 93,
   "id": "9c903f59",
   "metadata": {},
   "outputs": [
    {
     "data": {
      "text/plain": [
       "0"
      ]
     },
     "execution_count": 93,
     "metadata": {},
     "output_type": "execute_result"
    }
   ],
   "source": [
    "#Checking for duplicate values\n",
    "CustomerAddressN.duplicated().sum()"
   ]
  },
  {
   "cell_type": "markdown",
   "id": "b2ce6d5d",
   "metadata": {},
   "source": [
    "There is no duplicated values"
   ]
  },
  {
   "cell_type": "code",
   "execution_count": 94,
   "id": "a021df1b",
   "metadata": {},
   "outputs": [
    {
     "data": {
      "text/plain": [
       "Note: The data and information in this document is reflective of a hypothetical situation and client. This document is to be used for KPMG Virtual Internship purposes only.     0\n",
       "Unnamed: 1                                                                                                                                                                       0\n",
       "Unnamed: 2                                                                                                                                                                       0\n",
       "Unnamed: 3                                                                                                                                                                       0\n",
       "Unnamed: 4                                                                                                                                                                       0\n",
       "Unnamed: 5                                                                                                                                                                       0\n",
       "Unnamed: 6                                                                                                                                                                       0\n",
       "Unnamed: 7                                                                                                                                                                       0\n",
       "Unnamed: 8                                                                                                                                                                       0\n",
       "Unnamed: 9                                                                                                                                                                       0\n",
       "Unnamed: 10                                                                                                                                                                      0\n",
       "Unnamed: 11                                                                                                                                                                      0\n",
       "Unnamed: 12                                                                                                                                                                      0\n",
       "Unnamed: 13                                                                                                                                                                      0\n",
       "Unnamed: 14                                                                                                                                                                      0\n",
       "Unnamed: 15                                                                                                                                                                      0\n",
       "Unnamed: 16                                                                                                                                                                      0\n",
       "Unnamed: 17                                                                                                                                                                      0\n",
       "Unnamed: 18                                                                                                                                                                      0\n",
       "Unnamed: 19                                                                                                                                                                      0\n",
       "Unnamed: 20                                                                                                                                                                      0\n",
       "Unnamed: 21                                                                                                                                                                      0\n",
       "Unnamed: 22                                                                                                                                                                      0\n",
       "Unnamed: 23                                                                                                                                                                      0\n",
       "Unnamed: 24                                                                                                                                                                      0\n",
       "Unnamed: 25                                                                                                                                                                      0\n",
       "dtype: int64"
      ]
     },
     "execution_count": 94,
     "metadata": {},
     "output_type": "execute_result"
    }
   ],
   "source": [
    "#Checking for uniqueness of each column\n",
    "CustomerAddressN.nunique()"
   ]
  },
  {
   "cell_type": "markdown",
   "id": "827aab83",
   "metadata": {},
   "source": [
    "Exploring the columns"
   ]
  },
  {
   "cell_type": "code",
   "execution_count": 96,
   "id": "5c9a82d8",
   "metadata": {},
   "outputs": [
    {
     "data": {
      "text/plain": [
       "Index(['Note: The data and information in this document is reflective of a hypothetical situation and client. This document is to be used for KPMG Virtual Internship purposes only. ',\n",
       "       'Unnamed: 1', 'Unnamed: 2', 'Unnamed: 3', 'Unnamed: 4', 'Unnamed: 5',\n",
       "       'Unnamed: 6', 'Unnamed: 7', 'Unnamed: 8', 'Unnamed: 9', 'Unnamed: 10',\n",
       "       'Unnamed: 11', 'Unnamed: 12', 'Unnamed: 13', 'Unnamed: 14',\n",
       "       'Unnamed: 15', 'Unnamed: 16', 'Unnamed: 17', 'Unnamed: 18',\n",
       "       'Unnamed: 19', 'Unnamed: 20', 'Unnamed: 21', 'Unnamed: 22',\n",
       "       'Unnamed: 23', 'Unnamed: 24', 'Unnamed: 25'],\n",
       "      dtype='object')"
      ]
     },
     "execution_count": 96,
     "metadata": {},
     "output_type": "execute_result"
    }
   ],
   "source": [
    "CustomerAddressN.columns"
   ]
  },
  {
   "cell_type": "code",
   "execution_count": 99,
   "id": "066872f4",
   "metadata": {},
   "outputs": [
    {
     "data": {
      "text/plain": [
       "3 Mariners Cove Terrace    2\n",
       "3 Talisman Place           2\n",
       "64 Macpherson Junction     2\n",
       "614 Shopko Trail           1\n",
       "56145 Porter Lane          1\n",
       "                          ..\n",
       "59231 Claremont Place      1\n",
       "78 Rockefeller Park        1\n",
       "294 Lawn Junction          1\n",
       "18939 Upham Hill           1\n",
       "005 Bunker Hill Lane       1\n",
       "Name: Unnamed: 1, Length: 3997, dtype: int64"
      ]
     },
     "execution_count": 99,
     "metadata": {},
     "output_type": "execute_result"
    }
   ],
   "source": [
    "CustomerAddress['Unnamed: 1'].value_counts()"
   ]
  },
  {
   "cell_type": "code",
   "execution_count": 100,
   "id": "94050aad",
   "metadata": {},
   "outputs": [
    {
     "data": {
      "text/plain": [
       "2170    31\n",
       "2155    30\n",
       "2145    30\n",
       "2153    29\n",
       "2770    26\n",
       "        ..\n",
       "2400     1\n",
       "3144     1\n",
       "2257     1\n",
       "2429     1\n",
       "2794     1\n",
       "Name: Unnamed: 2, Length: 874, dtype: int64"
      ]
     },
     "execution_count": 100,
     "metadata": {},
     "output_type": "execute_result"
    }
   ],
   "source": [
    "CustomerAddress['Unnamed: 2'].value_counts()"
   ]
  },
  {
   "cell_type": "code",
   "execution_count": 101,
   "id": "c9b5306f",
   "metadata": {},
   "outputs": [
    {
     "data": {
      "text/plain": [
       "NSW                2054\n",
       "VIC                 939\n",
       "QLD                 838\n",
       "New South Wales      86\n",
       "Victoria             82\n",
       "state                 1\n",
       "Name: Unnamed: 3, dtype: int64"
      ]
     },
     "execution_count": 101,
     "metadata": {},
     "output_type": "execute_result"
    }
   ],
   "source": [
    "CustomerAddress['Unnamed: 3'].value_counts()"
   ]
  },
  {
   "cell_type": "code",
   "execution_count": 102,
   "id": "02273041",
   "metadata": {},
   "outputs": [
    {
     "data": {
      "text/plain": [
       "Australia    3999\n",
       "country         1\n",
       "Name: Unnamed: 4, dtype: int64"
      ]
     },
     "execution_count": 102,
     "metadata": {},
     "output_type": "execute_result"
    }
   ],
   "source": [
    "CustomerAddress['Unnamed: 4'].value_counts()"
   ]
  },
  {
   "cell_type": "code",
   "execution_count": 103,
   "id": "e7579de4",
   "metadata": {},
   "outputs": [
    {
     "data": {
      "text/plain": [
       "9                     647\n",
       "8                     646\n",
       "10                    577\n",
       "7                     493\n",
       "11                    281\n",
       "6                     238\n",
       "5                     225\n",
       "4                     214\n",
       "12                    195\n",
       "3                     186\n",
       "1                     154\n",
       "2                     143\n",
       "property_valuation      1\n",
       "Name: Unnamed: 5, dtype: int64"
      ]
     },
     "execution_count": 103,
     "metadata": {},
     "output_type": "execute_result"
    }
   ],
   "source": [
    "CustomerAddress['Unnamed: 5'].value_counts()"
   ]
  },
  {
   "cell_type": "code",
   "execution_count": 104,
   "id": "c7c080ce",
   "metadata": {},
   "outputs": [
    {
     "data": {
      "text/plain": [
       "Series([], Name: Unnamed: 6, dtype: int64)"
      ]
     },
     "execution_count": 104,
     "metadata": {},
     "output_type": "execute_result"
    }
   ],
   "source": [
    "CustomerAddress['Unnamed: 6'].value_counts()"
   ]
  },
  {
   "cell_type": "code",
   "execution_count": 105,
   "id": "646cfada",
   "metadata": {},
   "outputs": [
    {
     "data": {
      "text/plain": [
       "Series([], Name: Unnamed: 7, dtype: int64)"
      ]
     },
     "execution_count": 105,
     "metadata": {},
     "output_type": "execute_result"
    }
   ],
   "source": [
    "CustomerAddress['Unnamed: 7'].value_counts()"
   ]
  },
  {
   "cell_type": "code",
   "execution_count": 106,
   "id": "9fc9788c",
   "metadata": {},
   "outputs": [
    {
     "data": {
      "text/plain": [
       "Series([], Name: Unnamed: 8, dtype: int64)"
      ]
     },
     "execution_count": 106,
     "metadata": {},
     "output_type": "execute_result"
    }
   ],
   "source": [
    "CustomerAddress['Unnamed: 8'].value_counts()"
   ]
  },
  {
   "cell_type": "code",
   "execution_count": 107,
   "id": "93b0bc27",
   "metadata": {},
   "outputs": [
    {
     "data": {
      "text/plain": [
       "Series([], Name: Unnamed: 9, dtype: int64)"
      ]
     },
     "execution_count": 107,
     "metadata": {},
     "output_type": "execute_result"
    }
   ],
   "source": [
    "CustomerAddress['Unnamed: 9'].value_counts()"
   ]
  },
  {
   "cell_type": "code",
   "execution_count": 108,
   "id": "57b1bc2a",
   "metadata": {},
   "outputs": [
    {
     "data": {
      "text/plain": [
       "Series([], Name: Unnamed: 10, dtype: int64)"
      ]
     },
     "execution_count": 108,
     "metadata": {},
     "output_type": "execute_result"
    }
   ],
   "source": [
    "CustomerAddress['Unnamed: 10'].value_counts()"
   ]
  },
  {
   "cell_type": "code",
   "execution_count": 109,
   "id": "c92c298a",
   "metadata": {},
   "outputs": [
    {
     "data": {
      "text/plain": [
       "Series([], Name: Unnamed: 11, dtype: int64)"
      ]
     },
     "execution_count": 109,
     "metadata": {},
     "output_type": "execute_result"
    }
   ],
   "source": [
    "CustomerAddress['Unnamed: 11'].value_counts()"
   ]
  },
  {
   "cell_type": "code",
   "execution_count": 110,
   "id": "e84ef3af",
   "metadata": {},
   "outputs": [
    {
     "data": {
      "text/plain": [
       "Series([], Name: Unnamed: 12, dtype: int64)"
      ]
     },
     "execution_count": 110,
     "metadata": {},
     "output_type": "execute_result"
    }
   ],
   "source": [
    "CustomerAddress['Unnamed: 12'].value_counts()"
   ]
  },
  {
   "cell_type": "code",
   "execution_count": 111,
   "id": "81ce29e5",
   "metadata": {},
   "outputs": [
    {
     "data": {
      "text/plain": [
       "Series([], Name: Unnamed: 13, dtype: int64)"
      ]
     },
     "execution_count": 111,
     "metadata": {},
     "output_type": "execute_result"
    }
   ],
   "source": [
    "CustomerAddress['Unnamed: 13'].value_counts()"
   ]
  },
  {
   "cell_type": "code",
   "execution_count": 112,
   "id": "14fbe6c4",
   "metadata": {},
   "outputs": [
    {
     "data": {
      "text/plain": [
       "Series([], Name: Unnamed: 14, dtype: int64)"
      ]
     },
     "execution_count": 112,
     "metadata": {},
     "output_type": "execute_result"
    }
   ],
   "source": [
    "CustomerAddress['Unnamed: 14'].value_counts()"
   ]
  },
  {
   "cell_type": "code",
   "execution_count": 113,
   "id": "3bbe453d",
   "metadata": {},
   "outputs": [
    {
     "data": {
      "text/plain": [
       "Series([], Name: Unnamed: 15, dtype: int64)"
      ]
     },
     "execution_count": 113,
     "metadata": {},
     "output_type": "execute_result"
    }
   ],
   "source": [
    "CustomerAddress['Unnamed: 15'].value_counts()"
   ]
  },
  {
   "cell_type": "code",
   "execution_count": 114,
   "id": "6b9e55ed",
   "metadata": {},
   "outputs": [
    {
     "data": {
      "text/plain": [
       "Series([], Name: Unnamed: 16, dtype: int64)"
      ]
     },
     "execution_count": 114,
     "metadata": {},
     "output_type": "execute_result"
    }
   ],
   "source": [
    "CustomerAddress['Unnamed: 16'].value_counts()"
   ]
  },
  {
   "cell_type": "code",
   "execution_count": 115,
   "id": "fdcb2459",
   "metadata": {},
   "outputs": [
    {
     "data": {
      "text/plain": [
       "Series([], Name: Unnamed: 17, dtype: int64)"
      ]
     },
     "execution_count": 115,
     "metadata": {},
     "output_type": "execute_result"
    }
   ],
   "source": [
    "CustomerAddress['Unnamed: 17'].value_counts()"
   ]
  },
  {
   "cell_type": "code",
   "execution_count": 116,
   "id": "6df64c04",
   "metadata": {},
   "outputs": [
    {
     "data": {
      "text/plain": [
       "Series([], Name: Unnamed: 18, dtype: int64)"
      ]
     },
     "execution_count": 116,
     "metadata": {},
     "output_type": "execute_result"
    }
   ],
   "source": [
    "CustomerAddress['Unnamed: 18'].value_counts()"
   ]
  },
  {
   "cell_type": "code",
   "execution_count": 117,
   "id": "ee368cd0",
   "metadata": {},
   "outputs": [
    {
     "data": {
      "text/plain": [
       "Series([], Name: Unnamed: 19, dtype: int64)"
      ]
     },
     "execution_count": 117,
     "metadata": {},
     "output_type": "execute_result"
    }
   ],
   "source": [
    "CustomerAddress['Unnamed: 19'].value_counts()"
   ]
  },
  {
   "cell_type": "code",
   "execution_count": 118,
   "id": "b724d4e6",
   "metadata": {},
   "outputs": [
    {
     "data": {
      "text/plain": [
       "Series([], Name: Unnamed: 20, dtype: int64)"
      ]
     },
     "execution_count": 118,
     "metadata": {},
     "output_type": "execute_result"
    }
   ],
   "source": [
    "CustomerAddress['Unnamed: 20'].value_counts()"
   ]
  },
  {
   "cell_type": "code",
   "execution_count": 119,
   "id": "33ce3927",
   "metadata": {},
   "outputs": [
    {
     "data": {
      "text/plain": [
       "Series([], Name: Unnamed: 21, dtype: int64)"
      ]
     },
     "execution_count": 119,
     "metadata": {},
     "output_type": "execute_result"
    }
   ],
   "source": [
    "CustomerAddress['Unnamed: 21'].value_counts()"
   ]
  },
  {
   "cell_type": "code",
   "execution_count": 120,
   "id": "9e01e87a",
   "metadata": {},
   "outputs": [
    {
     "data": {
      "text/plain": [
       "Series([], Name: Unnamed: 22, dtype: int64)"
      ]
     },
     "execution_count": 120,
     "metadata": {},
     "output_type": "execute_result"
    }
   ],
   "source": [
    "CustomerAddress['Unnamed: 22'].value_counts()"
   ]
  },
  {
   "cell_type": "code",
   "execution_count": 121,
   "id": "a1ed3450",
   "metadata": {},
   "outputs": [
    {
     "data": {
      "text/plain": [
       "Series([], Name: Unnamed: 23, dtype: int64)"
      ]
     },
     "execution_count": 121,
     "metadata": {},
     "output_type": "execute_result"
    }
   ],
   "source": [
    "CustomerAddress['Unnamed: 23'].value_counts()"
   ]
  },
  {
   "cell_type": "code",
   "execution_count": 122,
   "id": "59682217",
   "metadata": {},
   "outputs": [
    {
     "data": {
      "text/plain": [
       "Series([], Name: Unnamed: 24, dtype: int64)"
      ]
     },
     "execution_count": 122,
     "metadata": {},
     "output_type": "execute_result"
    }
   ],
   "source": [
    "CustomerAddress['Unnamed: 24'].value_counts()"
   ]
  },
  {
   "cell_type": "code",
   "execution_count": 123,
   "id": "2f9d0686",
   "metadata": {},
   "outputs": [
    {
     "data": {
      "text/plain": [
       "Series([], Name: Unnamed: 25, dtype: int64)"
      ]
     },
     "execution_count": 123,
     "metadata": {},
     "output_type": "execute_result"
    }
   ],
   "source": [
    "CustomerAddress['Unnamed: 25'].value_counts()"
   ]
  },
  {
   "cell_type": "markdown",
   "id": "90491680",
   "metadata": {},
   "source": [
    "All the columns appear to be consistent and correct information"
   ]
  }
 ],
 "metadata": {
  "kernelspec": {
   "display_name": "Python 3",
   "language": "python",
   "name": "python3"
  },
  "language_info": {
   "codemirror_mode": {
    "name": "ipython",
    "version": 3
   },
   "file_extension": ".py",
   "mimetype": "text/x-python",
   "name": "python",
   "nbconvert_exporter": "python",
   "pygments_lexer": "ipython3",
   "version": "3.8.8"
  }
 },
 "nbformat": 4,
 "nbformat_minor": 5
}
